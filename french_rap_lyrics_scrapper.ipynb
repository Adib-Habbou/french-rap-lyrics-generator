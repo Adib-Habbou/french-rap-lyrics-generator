{
  "cells": [
    {
      "cell_type": "markdown",
      "metadata": {
        "id": "o5gskr9gRCm1"
      },
      "source": [
        "# Genius French Rap Lyrics Scrapper"
      ]
    },
    {
      "cell_type": "markdown",
      "metadata": {
        "id": "DdUaP74oRTaN"
      },
      "source": [
        "## Import the necessary libraries"
      ]
    },
    {
      "cell_type": "code",
      "execution_count": null,
      "metadata": {
        "id": "cCwvijvyb9Ax"
      },
      "outputs": [],
      "source": [
        "from bs4 import BeautifulSoup\n",
        "import requests\n",
        "import re\n",
        "import os"
      ]
    },
    {
      "cell_type": "markdown",
      "metadata": {
        "id": "od6zgAC4Rc2r"
      },
      "source": [
        "## Genius API Token"
      ]
    },
    {
      "cell_type": "code",
      "execution_count": null,
      "metadata": {
        "id": "BiBjVGkicNAs"
      },
      "outputs": [],
      "source": [
        "token = \"GENIUS API TOKEN\""
      ]
    },
    {
      "cell_type": "markdown",
      "metadata": {
        "id": "DgvebDhkRynW"
      },
      "source": [
        "## Artist Object Scraping"
      ]
    },
    {
      "cell_type": "markdown",
      "metadata": {
        "id": "fYRqNFF1RjeA"
      },
      "source": [
        "### Function"
      ]
    },
    {
      "cell_type": "code",
      "execution_count": null,
      "metadata": {
        "id": "IITtsqCzcYI7"
      },
      "outputs": [],
      "source": [
        "# artist object scraping from Genius API\n",
        "def rapper_info(rapper, page, TOKEN = token):\n",
        "    base_url = 'https://api.genius.com'\n",
        "    headers = {'Authorization': 'Bearer ' + TOKEN}\n",
        "    search_url = base_url + '/search?per_page=50&page=' + str(page)\n",
        "    data = {'q': rapper}\n",
        "    response = requests.get(search_url, data=data, headers=headers, timeout=5)\n",
        "    return response"
      ]
    },
    {
      "cell_type": "markdown",
      "metadata": {
        "id": "V8C3KFvuSTIO"
      },
      "source": [
        "### Test"
      ]
    },
    {
      "cell_type": "code",
      "execution_count": null,
      "metadata": {
        "colab": {
          "base_uri": "https://localhost:8080/"
        },
        "id": "Rziyq-jtSXIY",
        "outputId": "52d206c8-2949-4000-a71e-4b06c66678f3"
      },
      "outputs": [
        {
          "output_type": "stream",
          "name": "stdout",
          "text": [
            "<Response [200]>\n"
          ]
        }
      ],
      "source": [
        "print(rapper_info('Alpha Wann', 10))"
      ]
    },
    {
      "cell_type": "markdown",
      "metadata": {
        "id": "CjkEOPlpR6um"
      },
      "source": [
        "## Song URL Scraping"
      ]
    },
    {
      "cell_type": "markdown",
      "metadata": {
        "id": "LaDOq7xkRsYE"
      },
      "source": [
        "### Function"
      ]
    },
    {
      "cell_type": "code",
      "execution_count": null,
      "metadata": {
        "id": "AH5Ra8TBcN3O"
      },
      "outputs": [],
      "source": [
        "# song URL scraping from rapper object\n",
        "def song_url(rapper, nb_songs, TOKEN = token):\n",
        "    songs = []\n",
        "    page = 1\n",
        "\n",
        "    while True:\n",
        "        response = rapper_info(rapper, page, TOKEN)\n",
        "        json = response.json()\n",
        "\n",
        "        # scraping nb_songs songs objects of rapper\n",
        "        song_info = []\n",
        "        for hit in json['response']['hits']:\n",
        "            if rapper.lower() in hit['result']['primary_artist']['name'].lower():\n",
        "                song_info.append(hit)\n",
        "\n",
        "        # scraping songs url from songs objects\n",
        "        for song in song_info:\n",
        "            if (len(songs) < nb_songs):\n",
        "                url = song['result']['url']\n",
        "                songs.append(url)\n",
        "\n",
        "        # stoping the loop if we have enough songs in total for all rappers\n",
        "        if (len(songs) == nb_songs):\n",
        "            break\n",
        "\n",
        "        # stoping the loop if we don't have enough songs of this rapper\n",
        "        if (len(song_info) < 5):\n",
        "            break\n",
        "        else:\n",
        "            page += 1\n",
        "    \n",
        "    # display the songs url that we have found\n",
        "    print('Found {} songs of {}'.format(len(songs), rapper))\n",
        "    return songs"
      ]
    },
    {
      "cell_type": "markdown",
      "metadata": {
        "id": "DwgReaHJR--9"
      },
      "source": [
        "### Test"
      ]
    },
    {
      "cell_type": "code",
      "execution_count": null,
      "metadata": {
        "colab": {
          "base_uri": "https://localhost:8080/"
        },
        "id": "HqI6Zc8IceeP",
        "outputId": "c814773d-d07f-441a-a21d-677c0b59e1c3"
      },
      "outputs": [
        {
          "output_type": "stream",
          "name": "stdout",
          "text": [
            "Found 10 songs of Alpha Wann\n"
          ]
        },
        {
          "output_type": "execute_result",
          "data": {
            "text/plain": [
              "['https://genius.com/Nekfeu-and-alpha-wann-monsieur-sable-lyrics',\n",
              " 'https://genius.com/Nekfeu-and-alpha-wann-du-sexe-oppose-lyrics',\n",
              " 'https://genius.com/Alpha-wann-le-piege-lyrics',\n",
              " 'https://genius.com/Alpha-wann-philly-flingo-lyrics',\n",
              " 'https://genius.com/Alpha-wann-stupefiant-et-noir-lyrics',\n",
              " 'https://genius.com/Alpha-wann-ca-va-ensemble-lyrics',\n",
              " 'https://genius.com/Alpha-wann-aaa-lyrics',\n",
              " 'https://genius.com/Alpha-wann-ny-a-fond-lyrics',\n",
              " 'https://genius.com/Alpha-wann-pistolet-rose-2-lyrics',\n",
              " 'https://genius.com/Alpha-wann-cascade-remix-lyrics']"
            ]
          },
          "metadata": {},
          "execution_count": 6
        }
      ],
      "source": [
        "song_url('Alpha Wann', 10)"
      ]
    },
    {
      "cell_type": "markdown",
      "metadata": {
        "id": "d-GDF2foSH9j"
      },
      "source": [
        "## Lyrics Scraping"
      ]
    },
    {
      "cell_type": "markdown",
      "metadata": {
        "id": "2JmLVdfdSJqh"
      },
      "source": [
        "### Function"
      ]
    },
    {
      "cell_type": "code",
      "execution_count": null,
      "metadata": {
        "id": "mTjNB9qTckuh"
      },
      "outputs": [],
      "source": [
        "# scraping lyrics from songs url\n",
        "def song_lyrics(url):\n",
        "    page = requests.get(url)\n",
        "    soup = BeautifulSoup(page.content, 'html.parser')\n",
        "    lyrics = \"\" # so that the program does not stop if a scraping error occurs\n",
        "\n",
        "    # scraping lyrics using BeautifulSoup funtion\n",
        "    try:\n",
        "        lyrics = soup.select_one('div[class^=\"Lyrics__Container\"], .lyrics').get_text(strip=True, separator='\\n')\n",
        "    except:\n",
        "        print(\"An error occurred while scraping lyrics\")\n",
        "\n",
        "    # removing identifiers of chorus and verse\n",
        "    lyrics = re.sub(r'[\\(\\[].*?[\\)\\]]', '', lyrics)\n",
        "\n",
        "    # removing empty lines\n",
        "    lyrics = os.linesep.join([s for s in lyrics.splitlines() if s])\n",
        "\n",
        "    return lyrics"
      ]
    },
    {
      "cell_type": "markdown",
      "metadata": {
        "id": "DkR2CrcfSlqw"
      },
      "source": [
        "### Test"
      ]
    },
    {
      "cell_type": "code",
      "execution_count": null,
      "metadata": {
        "colab": {
          "base_uri": "https://localhost:8080/"
        },
        "id": "ADOuoWVSHcxL",
        "outputId": "d79b57b1-b752-45ad-c1a2-123a42ae506f"
      },
      "outputs": [
        {
          "output_type": "stream",
          "name": "stdout",
          "text": [
            "Portez-moi du rêve... Marchand d'sable...\n",
            "Balance un autre joint, balance une autre putain d'pépite\n",
            "Les keufs aiment matraquer les prolos, ressentent l'invincibilité\n",
            "C'est pas attaquer les homos qui t'rendra ta virilité\n",
            "Ho non, poto va tâter des lolos, molo\n",
            "T'amasses des vrais bobos sous projo\n",
            "J'suis ni robot ni hologramme, arrête tes photos\n",
            "On connaît la chienneté,\n",
            "allez, viendez dans ma bande\n",
            "L'étendard flambe, on a des temps d'avance\n",
            "Même indépendamment\n",
            "Importez-moi c'rêve magique, est-ce la zik qui me berce ?\n",
            "Reste addict s'il te plaît, j'déteste les statistiques de merde\n",
            "Hé, statique si je crée des verses\n",
            "Magiques qui te prennent de court\n",
            "Jamais pris de C, j'reste à l'abri des problèmes de bourges\n",
            "Oublie ta peine, l'odeur de crack sur la gazinière\n",
            "J'bousille le game avec le Phaal, on est quasi frères\n",
            "J'compte pas céder à leur chantage odieux\n",
            "On croit aux vœux, j'maudis le temps qui file\n",
            "Qui rend si triste quand on embrasse nos vieux\n",
            "\" Hé, Nekfeu, on compte sur toi, fais ça bien !  \", honte sur toi\n",
            "Tu parles mal sur moi mais après ça nie, hein\n",
            "Mais y'a rien, j'suis debout, j'fais mon petit bonhomme de chemin\n",
            "Des kilos d'or je tiens mais j'serai pas le chien du crew,\n",
            "nope !\n",
            "J'balance le pull-up quand j'me trompe de couplet\n",
            "Et ça part en impro en s'foutant des tronches de poulet\n",
            "Houp houp nique la lice-po,\n",
            "jolie fille\n",
            "Saute sur mes sous comme sur la bite à Guizmo\n",
            "J'en place une aux vrais, ceux qui n'ont pas eu le rêve\n",
            "Comme Mouss au hebs, le truc m'oppresse\n",
            "J'entends pas chuchoter\n",
            "Ici, la vie c'est comme un cours d'anglais, y'a trop d'faux amis\n",
            "Et c'est irrégulier, trop d'choses irréfutées\n",
            "Faut être sage pour rentrer\n",
            "Vivre ici c'est comme l’école, j'suis pas fait pour la vie\n",
            "Illicite et grosse déconne\n",
            ", prêt à t'baffer pour l'artiste\n",
            "Genre, passe les dollars vite mode, capitaliste extrême\n",
            "Trafic a l'ISF, bref, des connards finis\n",
            "C'est pour tout mes zonards timides, faut obtenir le dream\n",
            "J'écris l'histoire mais après faut tenir le titre, tu piges\n",
            "Envole-toi dans les nuages\n",
            "MC grasse mat', rendors-toi dans le plumard\n",
            "Roule la verte, bouge la tête\n",
            "Trouve le rêve, who's the man ?\n",
            "Roule la verte, bouge la tête\n",
            "Trouve le rêve, who's the man ?\n",
            "Roule la verte, bouge la tête\n",
            "Trouve le rêve, who's the man ?\n",
            "La vie, une pute et puis tu pars, pour ça qu'on s'rabat\n",
            "Parce que tu sais jamais quand tu vas caner\n",
            "La vie, une pute et puis tu pars, pour ça qu'on s'rabat\n",
            "Parce que tu sais jamais quand tu vas caner, négro\n",
            "Tchiguidi-tcheck yo , Alpha Wayne, yo !\n",
            "Malgré les gauches-droites, les folles lois des Gaulois\n",
            "Contre les peaux noires, Alph O Wann s’octroie l'droit\n",
            "D'déployer le troisième doigt dans c'cauchemar\n",
            "J'hoche le tête, j'taffe la rime tard la nuit avec mon walkman\n",
            "Mister Sandman, vise-moi et file-moi un rêve\n",
            "C'est quoi cette histoire, rime dit “écris moi un 16\"\n",
            "Donc chaque nuit j'morfle pour capter Morphée\n",
            "J'taffe Hip-Hop et lâche des flows frais\n",
            "Mais j'aime les 16, t'as compris, j'reste à condition\n",
            "Qu'elle soit fraîche ta cons',\n",
            "amène ta bestah\n",
            "Qu'elle me lèche la trompe\n",
            ", baise la concurrence\n",
            "C'est Nek et Alphonse, fume la zeb' la skonk\n",
            "Le temps c'est de l'argent donc j'guette ma montre\n",
            "Elle peine à compter puis laisse-moi pioncer\n",
            "Les vers m’enivrent, mes textes s'empilent\n",
            "Je n'ai que l'envie de vivre mes rêves en ville\n",
            "Excentrique et presque sans bitch, j'peux finir dans l'basement\n",
            "Ici, c'est stressant et étrange mais j'reste tranquille\n"
          ]
        }
      ],
      "source": [
        "print(song_lyrics('https://genius.com/Nekfeu-and-alpha-wann-monsieur-sable-lyrics'))"
      ]
    },
    {
      "cell_type": "markdown",
      "metadata": {
        "id": "0TdG_6HBSqsl"
      },
      "source": [
        "## Lyrics to file"
      ]
    },
    {
      "cell_type": "markdown",
      "metadata": {
        "id": "UD7AqPKiS0Jv"
      },
      "source": [
        "### Function"
      ]
    },
    {
      "cell_type": "code",
      "execution_count": null,
      "metadata": {
        "id": "xKR23-AHcnIk"
      },
      "outputs": [],
      "source": [
        "# writing the lyrics scraped on a text file\n",
        "def lyrics_to_file(rapper, nb_songs, TOKEN = token):\n",
        "    # creating a text file with the name of the rapper\n",
        "    f = open('french_rap_lyrics/' + rapper.lower() + '.txt', 'wb')\n",
        "\n",
        "    # getting the songs url\n",
        "    urls = song_url(rapper, nb_songs, TOKEN)\n",
        "\n",
        "    for url in urls:\n",
        "        # getting the songs lyrics\n",
        "        lyrics = song_lyrics(url)\n",
        "        # writing the songs lyrics on the text file\n",
        "        f.write(lyrics.encode(\"utf8\"))\n",
        "    f.close()\n",
        "\n",
        "    # counting and displaying the number of lines written\n",
        "    nb_lines = sum(1 for line in open('french_rap_lyrics/' + rapper.lower() + '.txt', 'rb'))\n",
        "    print('Wrote {} lines of lyrics in the text file from {} songs of {}'.format(nb_lines, nb_songs, rapper))"
      ]
    },
    {
      "cell_type": "markdown",
      "metadata": {
        "id": "hUV2Xkf-S6JZ"
      },
      "source": [
        "### Test"
      ]
    },
    {
      "cell_type": "code",
      "execution_count": null,
      "metadata": {
        "colab": {
          "base_uri": "https://localhost:8080/"
        },
        "id": "iOCktjuiHhnK",
        "outputId": "99ba3cc0-c9be-43ff-f54a-874985566e30"
      },
      "outputs": [
        {
          "output_type": "stream",
          "name": "stdout",
          "text": [
            "Found 10 songs of Alpha Wann\n",
            "Wrote 515 lines of lyrics in the text file from 10 songs of Alpha Wann\n"
          ]
        }
      ],
      "source": [
        "lyrics_to_file('Alpha Wann', 10)"
      ]
    },
    {
      "cell_type": "markdown",
      "metadata": {
        "id": "siAhX7AiS8Qp"
      },
      "source": [
        "## Final Scraping"
      ]
    },
    {
      "cell_type": "code",
      "execution_count": null,
      "metadata": {
        "colab": {
          "base_uri": "https://localhost:8080/"
        },
        "id": "erpaJp0AcogT",
        "outputId": "aa2784f2-5e89-4343-f9c2-97c1f065543d"
      },
      "outputs": [
        {
          "output_type": "stream",
          "name": "stdout",
          "text": [
            "100\n"
          ]
        }
      ],
      "source": [
        "# storing the names of rapper present in the file on a list\n",
        "rappers_file = open(\"rappers.txt\", \"r\")\n",
        "content = rappers_file.read()\n",
        "rappers_list = content.splitlines()\n",
        "rappers_list = [name.rstrip() for name in rappers_list]\n",
        "print(len(rappers_list))"
      ]
    },
    {
      "cell_type": "code",
      "execution_count": null,
      "metadata": {
        "id": "z--NCVxDcp10",
        "colab": {
          "base_uri": "https://localhost:8080/"
        },
        "outputId": "25259ec6-040f-4827-f7da-6e25d8b9496b"
      },
      "outputs": [
        {
          "output_type": "stream",
          "name": "stdout",
          "text": [
            "Found 100 songs of Alkpote\n",
            "Wrote 5367 lines of lyrics in the text file from 100 songs of Alkpote\n",
            "Found 100 songs of Alonzo\n",
            "Wrote 4450 lines of lyrics in the text file from 100 songs of Alonzo\n",
            "Found 100 songs of Booba\n",
            "Wrote 4747 lines of lyrics in the text file from 100 songs of Booba\n",
            "Found 100 songs of Da Uzi\n",
            "Wrote 4317 lines of lyrics in the text file from 100 songs of Da Uzi\n",
            "Found 100 songs of Dinos\n",
            "Wrote 3937 lines of lyrics in the text file from 100 songs of Dinos\n",
            "Found 28 songs of Doums\n",
            "Wrote 1105 lines of lyrics in the text file from 100 songs of Doums\n",
            "Found 100 songs of Dosseh\n",
            "Wrote 4694 lines of lyrics in the text file from 100 songs of Dosseh\n",
            "Found 100 songs of Freeze Corleone\n",
            "Wrote 4776 lines of lyrics in the text file from 100 songs of Freeze Corleone\n",
            "Found 26 songs of SEB (FRA)\n",
            "Wrote 1119 lines of lyrics in the text file from 100 songs of SEB (FRA)\n",
            "Found 26 songs of Gringe\n",
            "Wrote 1132 lines of lyrics in the text file from 100 songs of Gringe\n",
            "Found 100 songs of Seth Gueko\n",
            "Wrote 4882 lines of lyrics in the text file from 100 songs of Seth Gueko\n",
            "Found 100 songs of Guizmo\n",
            "Wrote 6203 lines of lyrics in the text file from 100 songs of Guizmo\n",
            "Found 100 songs of Hatik\n",
            "Wrote 3516 lines of lyrics in the text file from 100 songs of Hatik\n",
            "Found 100 songs of Hornet La Frappe\n",
            "Wrote 4164 lines of lyrics in the text file from 100 songs of Hornet La Frappe\n",
            "Found 71 songs of Hugo TSR\n",
            "Wrote 2952 lines of lyrics in the text file from 100 songs of Hugo TSR\n",
            "Found 100 songs of Hamza\n",
            "Wrote 4104 lines of lyrics in the text file from 100 songs of Hamza\n",
            "Found 100 songs of Kery James\n",
            "Wrote 5974 lines of lyrics in the text file from 100 songs of Kery James\n",
            "Found 87 songs of Jazzy Bazz\n",
            "An error occurred while scraping lyrics\n",
            "Wrote 3453 lines of lyrics in the text file from 100 songs of Jazzy Bazz\n",
            "Found 100 songs of Josman\n",
            "Wrote 4634 lines of lyrics in the text file from 100 songs of Josman\n",
            "Found 100 songs of Kaaris\n",
            "Wrote 5174 lines of lyrics in the text file from 100 songs of Kaaris\n",
            "Found 100 songs of Kalash Criminel\n",
            "Wrote 4633 lines of lyrics in the text file from 100 songs of Kalash Criminel\n",
            "Found 100 songs of Koba LaD\n",
            "Wrote 3877 lines of lyrics in the text file from 100 songs of Koba LaD\n",
            "Found 100 songs of Lacrim\n",
            "Wrote 5244 lines of lyrics in the text file from 100 songs of Lacrim\n",
            "Found 100 songs of Lefa\n",
            "Wrote 4250 lines of lyrics in the text file from 100 songs of Lefa\n",
            "Found 100 songs of Leto\n",
            "Wrote 4223 lines of lyrics in the text file from 100 songs of Leto\n",
            "Found 100 songs of Lomepal\n",
            "Wrote 4296 lines of lyrics in the text file from 100 songs of Lomepal\n",
            "Found 67 songs of Lorenzo\n",
            "An error occurred while scraping lyrics\n",
            "Wrote 2839 lines of lyrics in the text file from 100 songs of Lorenzo\n",
            "Found 100 songs of Laylow\n",
            "Wrote 3659 lines of lyrics in the text file from 100 songs of Laylow\n",
            "Found 100 songs of Maes\n",
            "Wrote 3791 lines of lyrics in the text file from 100 songs of Maes\n",
            "Found 67 songs of MHD\n",
            "Wrote 2834 lines of lyrics in the text file from 100 songs of MHD\n",
            "Found 100 songs of Mister You\n",
            "Wrote 5331 lines of lyrics in the text file from 100 songs of Mister You\n",
            "Found 87 songs of Moha La Squale\n",
            "Wrote 3952 lines of lyrics in the text file from 100 songs of Moha La Squale\n",
            "Found 100 songs of Naps\n",
            "Wrote 4063 lines of lyrics in the text file from 100 songs of Naps\n",
            "Found 100 songs of Naza\n",
            "Wrote 4079 lines of lyrics in the text file from 100 songs of Naza\n",
            "Found 100 songs of Nekfeu\n",
            "Wrote 5130 lines of lyrics in the text file from 100 songs of Nekfeu\n",
            "Found 100 songs of Ninho\n",
            "Wrote 4339 lines of lyrics in the text file from 100 songs of Ninho\n",
            "Found 100 songs of Niro\n",
            "Wrote 5241 lines of lyrics in the text file from 100 songs of Niro\n",
            "Found 100 songs of Niska\n",
            "Wrote 4299 lines of lyrics in the text file from 100 songs of Niska\n",
            "Found 68 songs of Oboy\n",
            "Wrote 2385 lines of lyrics in the text file from 100 songs of Oboy\n",
            "Found 100 songs of Orelsan\n",
            "Wrote 4945 lines of lyrics in the text file from 100 songs of Orelsan\n",
            "Found 100 songs of PLK\n",
            "Wrote 4327 lines of lyrics in the text file from 100 songs of PLK\n",
            "Found 100 songs of Oxmo Puccino\n",
            "Wrote 4437 lines of lyrics in the text file from 100 songs of Oxmo Puccino\n",
            "Found 10 songs of Rémy\n",
            "Wrote 642 lines of lyrics in the text file from 100 songs of Rémy\n",
            "Found 100 songs of Rilès\n",
            "Wrote 4053 lines of lyrics in the text file from 100 songs of Rilès\n",
            "Found 100 songs of RK\n",
            "Wrote 4583 lines of lyrics in the text file from 100 songs of RK\n",
            "Found 100 songs of Rohff\n",
            "Wrote 7570 lines of lyrics in the text file from 100 songs of Rohff\n",
            "Found 100 songs of Sadek\n",
            "Wrote 4998 lines of lyrics in the text file from 100 songs of Sadek\n",
            "Found 100 songs of SCH\n",
            "Wrote 4499 lines of lyrics in the text file from 100 songs of SCH\n",
            "Found 100 songs of Sneazzy\n",
            "Wrote 4936 lines of lyrics in the text file from 100 songs of Sneazzy\n",
            "Found 100 songs of S.Pri Noir\n",
            "Wrote 4386 lines of lyrics in the text file from 100 songs of S.Pri Noir\n",
            "Found 91 songs of Alpha Wann\n",
            "Wrote 4276 lines of lyrics in the text file from 100 songs of Alpha Wann\n",
            "Found 100 songs of Youssoupha\n",
            "Wrote 5164 lines of lyrics in the text file from 100 songs of Youssoupha\n",
            "Found 100 songs of Youssoupha\n",
            "Wrote 5164 lines of lyrics in the text file from 100 songs of Youssoupha\n",
            "Found 100 songs of 4Keus\n",
            "Wrote 4415 lines of lyrics in the text file from 100 songs of 4Keus\n",
            "Found 100 songs of 13 Block\n",
            "Wrote 4054 lines of lyrics in the text file from 100 songs of 13 Block\n",
            "Found 47 songs of 1995\n",
            "An error occurred while scraping lyrics\n",
            "Wrote 2202 lines of lyrics in the text file from 100 songs of 1995\n",
            "Found 100 songs of Bigflo & Oli\n",
            "Wrote 6419 lines of lyrics in the text file from 100 songs of Bigflo & Oli\n",
            "Found 100 songs of Djadja & Dinaz\n",
            "Wrote 4381 lines of lyrics in the text file from 100 songs of Djadja & Dinaz\n",
            "Found 84 songs of DTF\n",
            "Wrote 4178 lines of lyrics in the text file from 100 songs of DTF\n",
            "Found 100 songs of MMZ\n",
            "Wrote 4314 lines of lyrics in the text file from 100 songs of MMZ\n",
            "Found 100 songs of MZ\n",
            "Wrote 4329 lines of lyrics in the text file from 100 songs of MZ\n",
            "Found 81 songs of PNL\n",
            "Wrote 4336 lines of lyrics in the text file from 100 songs of PNL\n",
            "Found 82 songs of S-Crew\n",
            "Wrote 4507 lines of lyrics in the text file from 100 songs of S-Crew\n",
            "Found 74 songs of TSR Crew\n",
            "Wrote 3288 lines of lyrics in the text file from 100 songs of TSR Crew\n",
            "Found 10 songs of Michou\n",
            "Wrote 320 lines of lyrics in the text file from 100 songs of Michou\n",
            "Found 31 songs of Ziak\n",
            "Wrote 1191 lines of lyrics in the text file from 100 songs of Ziak\n",
            "Found 100 songs of Josman\n",
            "Wrote 4634 lines of lyrics in the text file from 100 songs of Josman\n",
            "Found 100 songs of Sadek\n",
            "Wrote 4998 lines of lyrics in the text file from 100 songs of Sadek\n",
            "Found 100 songs of Kekra\n",
            "Wrote 3865 lines of lyrics in the text file from 100 songs of Kekra\n",
            "Found 100 songs of Gambi\n",
            "An error occurred while scraping lyrics\n",
            "Wrote 4822 lines of lyrics in the text file from 100 songs of Gambi\n",
            "Found 100 songs of Zola\n",
            "An error occurred while scraping lyrics\n",
            "Wrote 3577 lines of lyrics in the text file from 100 songs of Zola\n",
            "Found 48 songs of Spider ZED\n",
            "Wrote 1625 lines of lyrics in the text file from 100 songs of Spider ZED\n",
            "Found 100 songs of KIKESA\n",
            "Wrote 4106 lines of lyrics in the text file from 100 songs of KIKESA\n",
            "Found 94 songs of Boef\n",
            "Wrote 4214 lines of lyrics in the text file from 100 songs of Boef\n",
            "Found 100 songs of La Fouine\n",
            "Wrote 5066 lines of lyrics in the text file from 100 songs of La Fouine\n",
            "Found 100 songs of Guizmo\n",
            "Wrote 6203 lines of lyrics in the text file from 100 songs of Guizmo\n",
            "Found 100 songs of Mac Tyer\n",
            "Wrote 4869 lines of lyrics in the text file from 100 songs of Mac Tyer\n",
            "Found 59 songs of The Shin Sekaï\n",
            "Wrote 2842 lines of lyrics in the text file from 100 songs of The Shin Sekaï\n",
            "Found 15 songs of Smokey Joe & The Kid\n",
            "Wrote 592 lines of lyrics in the text file from 100 songs of Smokey Joe & The Kid\n",
            "Found 100 songs of Sniper\n",
            "Wrote 6283 lines of lyrics in the text file from 100 songs of Sniper\n",
            "Found 10 songs of Soul Swing\n",
            "Wrote 370 lines of lyrics in the text file from 100 songs of Soul Swing\n",
            "Found 12 songs of Les Spécialistes\n",
            "Wrote 372 lines of lyrics in the text file from 100 songs of Les Spécialistes\n",
            "Found 23 songs of Spoke Orkestra\n",
            "An error occurred while scraping lyrics\n",
            "Wrote 858 lines of lyrics in the text file from 100 songs of Spoke Orkestra\n",
            "Found 100 songs of Stupeflip\n",
            "Wrote 3461 lines of lyrics in the text file from 100 songs of Stupeflip\n",
            "Found 80 songs of Suprême NTM\n",
            "An error occurred while scraping lyrics\n",
            "An error occurred while scraping lyrics\n",
            "Wrote 3411 lines of lyrics in the text file from 100 songs of Suprême NTM\n",
            "Found 61 songs of Columbine\n",
            "Wrote 3250 lines of lyrics in the text file from 100 songs of Columbine\n",
            "Found 21 songs of Moji x Sboy\n",
            "Wrote 819 lines of lyrics in the text file from 100 songs of Moji x Sboy\n",
            "Found 72 songs of Luidji\n",
            "Wrote 2793 lines of lyrics in the text file from 100 songs of Luidji\n",
            "Found 100 songs of Sopico\n",
            "Wrote 4356 lines of lyrics in the text file from 100 songs of Sopico\n",
            "Found 100 songs of Lunatic\n",
            "Wrote 4312 lines of lyrics in the text file from 100 songs of Lunatic\n",
            "Found 33 songs of Mafia Trece\n",
            "An error occurred while scraping lyrics\n",
            "Wrote 1335 lines of lyrics in the text file from 100 songs of Mafia Trece\n",
            "Found 72 songs of Manau\n",
            "Wrote 2732 lines of lyrics in the text file from 100 songs of Manau\n",
            "Found 0 songs of Bullets\n",
            "Wrote 0 lines of lyrics in the text file from 100 songs of Bullets\n",
            "Found 49 songs of La Canaille\n",
            "Wrote 1909 lines of lyrics in the text file from 100 songs of La Canaille\n",
            "Found 13 songs of Caribbean Dandee\n",
            "Wrote 461 lines of lyrics in the text file from 100 songs of Caribbean Dandee\n",
            "Found 50 songs of Casseurs Flowters\n",
            "Wrote 2985 lines of lyrics in the text file from 100 songs of Casseurs Flowters\n",
            "Found 59 songs of La Caution\n",
            "An error occurred while scraping lyrics\n",
            "An error occurred while scraping lyrics\n",
            "Wrote 2129 lines of lyrics in the text file from 100 songs of La Caution\n",
            "Found 58 songs of Chiens de paille\n",
            "Wrote 2474 lines of lyrics in the text file from 100 songs of Chiens de paille\n",
            "Found 38 songs of La Cliqua\n",
            "Wrote 1794 lines of lyrics in the text file from 100 songs of La Cliqua\n",
            "Found 69 songs of Népal\n",
            "Wrote 2822 lines of lyrics in the text file from 100 songs of Népal\n"
          ]
        }
      ],
      "source": [
        "# writing the lyrics file of each rapper\n",
        "for rapper in rappers_list:\n",
        "    lyrics_to_file(rapper, 100)"
      ]
    },
    {
      "cell_type": "code",
      "source": [
        "!zip -r /content/french_rap_lyrics.zip /content/french_rap_lyrics"
      ],
      "metadata": {
        "colab": {
          "base_uri": "https://localhost:8080/"
        },
        "id": "wX6DZe5YBJE5",
        "outputId": "957738f4-a2e0-4eae-a199-2afd43120e81"
      },
      "execution_count": null,
      "outputs": [
        {
          "output_type": "stream",
          "name": "stdout",
          "text": [
            "  adding: content/french_rap_lyrics/ (stored 0%)\n",
            "  adding: content/french_rap_lyrics/niska.txt (deflated 65%)\n",
            "  adding: content/french_rap_lyrics/dinos.txt (deflated 65%)\n",
            "  adding: content/french_rap_lyrics/spoke orkestra.txt (deflated 59%)\n",
            "  adding: content/french_rap_lyrics/gringe.txt (deflated 61%)\n",
            "  adding: content/french_rap_lyrics/naps.txt (deflated 67%)\n",
            "  adding: content/french_rap_lyrics/kekra.txt (deflated 71%)\n",
            "  adding: content/french_rap_lyrics/lorenzo.txt (deflated 62%)\n",
            "  adding: content/french_rap_lyrics/seb (fra).txt (deflated 62%)\n",
            "  adding: content/french_rap_lyrics/koba lad.txt (deflated 65%)\n",
            "  adding: content/french_rap_lyrics/alpha wann.txt (deflated 60%)\n",
            "  adding: content/french_rap_lyrics/mhd.txt (deflated 65%)\n",
            "  adding: content/french_rap_lyrics/alkpote.txt (deflated 62%)\n",
            "  adding: content/french_rap_lyrics/bigflo & oli.txt (deflated 62%)\n",
            "  adding: content/french_rap_lyrics/kaaris.txt (deflated 65%)\n",
            "  adding: content/french_rap_lyrics/plk.txt (deflated 66%)\n",
            "  adding: content/french_rap_lyrics/kery james.txt (deflated 63%)\n",
            "  adding: content/french_rap_lyrics/spider zed.txt (deflated 69%)\n",
            "  adding: content/french_rap_lyrics/rémy.txt (deflated 61%)\n",
            "  adding: content/french_rap_lyrics/népal.txt (deflated 64%)\n",
            "  adding: content/french_rap_lyrics/jazzy bazz.txt (deflated 61%)\n",
            "  adding: content/french_rap_lyrics/13 block.txt (deflated 65%)\n",
            "  adding: content/french_rap_lyrics/boef.txt (deflated 63%)\n",
            "  adding: content/french_rap_lyrics/maes.txt (deflated 62%)\n",
            "  adding: content/french_rap_lyrics/booba.txt (deflated 61%)\n",
            "  adding: content/french_rap_lyrics/mz.txt (deflated 63%)\n",
            "  adding: content/french_rap_lyrics/da uzi.txt (deflated 64%)\n",
            "  adding: content/french_rap_lyrics/rohff.txt (deflated 62%)\n",
            "  adding: content/french_rap_lyrics/4keus.txt (deflated 64%)\n",
            "  adding: content/french_rap_lyrics/nekfeu.txt (deflated 62%)\n",
            "  adding: content/french_rap_lyrics/mafia trece.txt (deflated 57%)\n",
            "  adding: content/french_rap_lyrics/mister you.txt (deflated 60%)\n",
            "  adding: content/french_rap_lyrics/hugo tsr.txt (deflated 60%)\n",
            "  adding: content/french_rap_lyrics/sadek.txt (deflated 62%)\n",
            "  adding: content/french_rap_lyrics/alonzo.txt (deflated 64%)\n",
            "  adding: content/french_rap_lyrics/casseurs flowters.txt (deflated 60%)\n",
            "  adding: content/french_rap_lyrics/josman.txt (deflated 65%)\n",
            "  adding: content/french_rap_lyrics/la cliqua.txt (deflated 58%)\n",
            "  adding: content/french_rap_lyrics/lunatic.txt (deflated 60%)\n",
            "  adding: content/french_rap_lyrics/hatik.txt (deflated 66%)\n",
            "  adding: content/french_rap_lyrics/leto.txt (deflated 67%)\n",
            "  adding: content/french_rap_lyrics/mac tyer.txt (deflated 64%)\n",
            "  adding: content/french_rap_lyrics/gambi.txt (deflated 63%)\n",
            "  adding: content/french_rap_lyrics/s.pri noir.txt (deflated 62%)\n",
            "  adding: content/french_rap_lyrics/lomepal.txt (deflated 63%)\n",
            "  adding: content/french_rap_lyrics/manau.txt (deflated 62%)\n",
            "  adding: content/french_rap_lyrics/lacrim.txt (deflated 63%)\n",
            "  adding: content/french_rap_lyrics/la canaille.txt (deflated 59%)\n",
            "  adding: content/french_rap_lyrics/caribbean dandee.txt (deflated 57%)\n",
            "  adding: content/french_rap_lyrics/dtf.txt (deflated 66%)\n",
            "  adding: content/french_rap_lyrics/hamza.txt (deflated 70%)\n",
            "  adding: content/french_rap_lyrics/soul swing.txt (deflated 56%)\n",
            "  adding: content/french_rap_lyrics/tsr crew.txt (deflated 60%)\n",
            "  adding: content/french_rap_lyrics/s-crew.txt (deflated 63%)\n",
            "  adding: content/french_rap_lyrics/kikesa.txt (deflated 65%)\n",
            "  adding: content/french_rap_lyrics/sopico.txt (deflated 62%)\n",
            "  adding: content/french_rap_lyrics/ninho.txt (deflated 65%)\n",
            "  adding: content/french_rap_lyrics/la caution.txt (deflated 58%)\n",
            "  adding: content/french_rap_lyrics/youssoupha.txt (deflated 62%)\n",
            "  adding: content/french_rap_lyrics/stupeflip.txt (deflated 63%)\n",
            "  adding: content/french_rap_lyrics/freeze corleone.txt (deflated 65%)\n",
            "  adding: content/french_rap_lyrics/bullets.txt (stored 0%)\n",
            "  adding: content/french_rap_lyrics/doums.txt (deflated 66%)\n",
            "  adding: content/french_rap_lyrics/moji x sboy.txt (deflated 68%)\n",
            "  adding: content/french_rap_lyrics/sniper.txt (deflated 62%)\n",
            "  adding: content/french_rap_lyrics/zola.txt (deflated 63%)\n",
            "  adding: content/french_rap_lyrics/smokey joe & the kid.txt (deflated 57%)\n",
            "  adding: content/french_rap_lyrics/suprême ntm.txt (deflated 62%)\n",
            "  adding: content/french_rap_lyrics/the shin sekaï.txt (deflated 66%)\n",
            "  adding: content/french_rap_lyrics/guizmo.txt (deflated 61%)\n",
            "  adding: content/french_rap_lyrics/oboy.txt (deflated 65%)\n",
            "  adding: content/french_rap_lyrics/1995.txt (deflated 57%)\n",
            "  adding: content/french_rap_lyrics/ziak.txt (deflated 62%)\n",
            "  adding: content/french_rap_lyrics/naza.txt (deflated 60%)\n",
            "  adding: content/french_rap_lyrics/dosseh.txt (deflated 63%)\n",
            "  adding: content/french_rap_lyrics/oxmo puccino.txt (deflated 61%)\n",
            "  adding: content/french_rap_lyrics/lefa.txt (deflated 67%)\n",
            "  adding: content/french_rap_lyrics/pnl.txt (deflated 62%)\n",
            "  adding: content/french_rap_lyrics/luidji.txt (deflated 63%)\n",
            "  adding: content/french_rap_lyrics/rk.txt (deflated 61%)\n",
            "  adding: content/french_rap_lyrics/la fouine.txt (deflated 64%)\n",
            "  adding: content/french_rap_lyrics/orelsan.txt (deflated 63%)\n",
            "  adding: content/french_rap_lyrics/niro.txt (deflated 64%)\n",
            "  adding: content/french_rap_lyrics/mmz.txt (deflated 65%)\n",
            "  adding: content/french_rap_lyrics/laylow.txt (deflated 64%)\n",
            "  adding: content/french_rap_lyrics/columbine.txt (deflated 62%)\n",
            "  adding: content/french_rap_lyrics/rilès.txt (deflated 66%)\n",
            "  adding: content/french_rap_lyrics/chiens de paille.txt (deflated 60%)\n",
            "  adding: content/french_rap_lyrics/seth gueko.txt (deflated 60%)\n",
            "  adding: content/french_rap_lyrics/michou.txt (deflated 65%)\n",
            "  adding: content/french_rap_lyrics/les spécialistes.txt (deflated 57%)\n",
            "  adding: content/french_rap_lyrics/sneazzy.txt (deflated 62%)\n",
            "  adding: content/french_rap_lyrics/moha la squale.txt (deflated 67%)\n",
            "  adding: content/french_rap_lyrics/sch.txt (deflated 61%)\n",
            "  adding: content/french_rap_lyrics/djadja & dinaz.txt (deflated 67%)\n",
            "  adding: content/french_rap_lyrics/kalash criminel.txt (deflated 66%)\n",
            "  adding: content/french_rap_lyrics/hornet la frappe.txt (deflated 65%)\n"
          ]
        }
      ]
    },
    {
      "cell_type": "code",
      "source": [
        "from google.colab import files\n",
        "files.download('/content/french_rap_lyrics.zip')"
      ],
      "metadata": {
        "colab": {
          "base_uri": "https://localhost:8080/",
          "height": 89
        },
        "id": "n39Qgpr5AHiZ",
        "outputId": "221901cb-b457-49be-ec40-83df86563793"
      },
      "execution_count": null,
      "outputs": [
        {
          "output_type": "display_data",
          "data": {
            "text/plain": [
              "<IPython.core.display.Javascript object>"
            ],
            "application/javascript": [
              "\n",
              "    async function download(id, filename, size) {\n",
              "      if (!google.colab.kernel.accessAllowed) {\n",
              "        return;\n",
              "      }\n",
              "      const div = document.createElement('div');\n",
              "      const label = document.createElement('label');\n",
              "      label.textContent = `Downloading \"${filename}\": `;\n",
              "      div.appendChild(label);\n",
              "      const progress = document.createElement('progress');\n",
              "      progress.max = size;\n",
              "      div.appendChild(progress);\n",
              "      document.body.appendChild(div);\n",
              "\n",
              "      const buffers = [];\n",
              "      let downloaded = 0;\n",
              "\n",
              "      const channel = await google.colab.kernel.comms.open(id);\n",
              "      // Send a message to notify the kernel that we're ready.\n",
              "      channel.send({})\n",
              "\n",
              "      for await (const message of channel.messages) {\n",
              "        // Send a message to notify the kernel that we're ready.\n",
              "        channel.send({})\n",
              "        if (message.buffers) {\n",
              "          for (const buffer of message.buffers) {\n",
              "            buffers.push(buffer);\n",
              "            downloaded += buffer.byteLength;\n",
              "            progress.value = downloaded;\n",
              "          }\n",
              "        }\n",
              "      }\n",
              "      const blob = new Blob(buffers, {type: 'application/binary'});\n",
              "      const a = document.createElement('a');\n",
              "      a.href = window.URL.createObjectURL(blob);\n",
              "      a.download = filename;\n",
              "      div.appendChild(a);\n",
              "      a.click();\n",
              "      div.remove();\n",
              "    }\n",
              "  "
            ]
          },
          "metadata": {}
        },
        {
          "output_type": "display_data",
          "data": {
            "text/plain": [
              "<IPython.core.display.Javascript object>"
            ],
            "application/javascript": [
              "download(\"download_015dea07-b663-432f-90b6-f8ec77ad72d0\", \"french_rap_lyrics.zip\", 5999912)"
            ]
          },
          "metadata": {}
        }
      ]
    }
  ],
  "metadata": {
    "colab": {
      "collapsed_sections": [],
      "name": "french_rap_lyrics_scrapper.ipynb",
      "provenance": []
    },
    "kernelspec": {
      "display_name": "Python 3",
      "name": "python3"
    },
    "language_info": {
      "name": "python"
    }
  },
  "nbformat": 4,
  "nbformat_minor": 0
}