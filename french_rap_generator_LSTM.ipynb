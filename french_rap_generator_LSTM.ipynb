{
  "nbformat": 4,
  "nbformat_minor": 0,
  "metadata": {
    "colab": {
      "name": "french_rap_generator_LSTM.ipynb",
      "provenance": [],
      "collapsed_sections": []
    },
    "kernelspec": {
      "name": "python3",
      "display_name": "Python 3"
    },
    "language_info": {
      "name": "python"
    },
    "accelerator": "GPU",
    "gpuClass": "standard"
  },
  "cells": [
    {
      "cell_type": "markdown",
      "source": [
        "# French Rap Lyrics Generator using LSTM"
      ],
      "metadata": {
        "id": "w2iCESnNqmI9"
      }
    },
    {
      "cell_type": "markdown",
      "source": [
        "## Preprocessing"
      ],
      "metadata": {
        "id": "lDf1UZwIrNTh"
      }
    },
    {
      "cell_type": "markdown",
      "source": [
        "### Import the necessary libraries"
      ],
      "metadata": {
        "id": "7_PddTVoqxAf"
      }
    },
    {
      "cell_type": "code",
      "execution_count": 19,
      "metadata": {
        "id": "AhzaOpRR2KZG"
      },
      "outputs": [],
      "source": [
        "from tqdm import tqdm \n",
        "import numpy as np\n",
        "import glob\n",
        "import os"
      ]
    },
    {
      "cell_type": "markdown",
      "source": [
        "### Importing data set"
      ],
      "metadata": {
        "id": "IbLmAamp-BLb"
      }
    },
    {
      "cell_type": "code",
      "source": [
        "# connecting to google drive\n",
        "from google.colab import drive\n",
        "drive.mount('/content/drive/', force_remount=True)\n",
        "\n",
        "# getting all rappers files recursivly\n",
        "lyrics_files = glob.glob('/content/drive/MyDrive/french_rap_lyrics/*.txt')"
      ],
      "metadata": {
        "colab": {
          "base_uri": "https://localhost:8080/"
        },
        "id": "SkFTH-vY-CiR",
        "outputId": "bae9cf3e-6b6c-4eac-d0e3-f09c216c3b40"
      },
      "execution_count": 20,
      "outputs": [
        {
          "output_type": "stream",
          "name": "stdout",
          "text": [
            "Mounted at /content/drive/\n"
          ]
        }
      ]
    },
    {
      "cell_type": "markdown",
      "source": [
        "### Splitting the text of the lyrics"
      ],
      "metadata": {
        "id": "Ttwb_5-kqzgq"
      }
    },
    {
      "cell_type": "code",
      "source": [
        "# splitting the text lyrics into words\n",
        "lyrics_corpus = []\n",
        "for file in tqdm(lyrics_files, position=0, leave=True):\n",
        "    with open(file) as f :\n",
        "      lyrics = f.read().lower().replace('\\n', ' \\n ')\n",
        "      lyrics_words = [word for word in lyrics.split(' ') if word.strip() != '' or word == '\\n']\n",
        "      lyrics_corpus = lyrics_corpus + lyrics_words"
      ],
      "metadata": {
        "id": "PdmHzlF42PWI",
        "colab": {
          "base_uri": "https://localhost:8080/"
        },
        "outputId": "d542a58f-b0a1-4a15-dd89-8ae371697820"
      },
      "execution_count": 21,
      "outputs": [
        {
          "output_type": "stream",
          "name": "stderr",
          "text": [
            "100%|██████████| 135/135 [00:05<00:00, 25.84it/s]\n"
          ]
        }
      ]
    },
    {
      "cell_type": "code",
      "source": [
        "print(\"Number of words in the lyrics corpus:\", len(lyrics_corpus))"
      ],
      "metadata": {
        "id": "d2IBRIVv2uwA",
        "colab": {
          "base_uri": "https://localhost:8080/"
        },
        "outputId": "9d78e6a4-84aa-4332-bd67-a9859750b85f"
      },
      "execution_count": 22,
      "outputs": [
        {
          "output_type": "stream",
          "name": "stdout",
          "text": [
            "Number of words in the lyrics corpus: 3755571\n"
          ]
        }
      ]
    },
    {
      "cell_type": "markdown",
      "source": [
        "### Cleaning the lyrics"
      ],
      "metadata": {
        "id": "VtVmj8DLrYun"
      }
    },
    {
      "cell_type": "code",
      "source": [
        "# words that appear less than 10 times are removed\n",
        "MIN_WORD_FREQ = 10\n",
        "\n",
        "# set of all the words in the lyrics\n",
        "word_freq = {}\n",
        "for word in lyrics_corpus:\n",
        "    word_freq[word] = word_freq.get(word, 0) + 1\n",
        "\n",
        "# set of all the words we want to remove\n",
        "ignored_words = set()\n",
        "for key, value in word_freq.items():\n",
        "    if word_freq[key] < MIN_WORD_FREQ:\n",
        "        ignored_words.add(key)"
      ],
      "metadata": {
        "id": "yJg7gMtP-98i"
      },
      "execution_count": 23,
      "outputs": []
    },
    {
      "cell_type": "code",
      "source": [
        "# displaying size of data set before cleaning and condition of removal\n",
        "words = set(lyrics_corpus)\n",
        "print('Number of unique words before removing:', len(words))\n",
        "print('Removing words with frequency <', MIN_WORD_FREQ)\n",
        "\n",
        "# displaying size of data set after cleaning\n",
        "words = sorted(set(words) - ignored_words)\n",
        "print('Number of unique words after removing:', len(words))"
      ],
      "metadata": {
        "id": "KzBviDcR2z0y",
        "colab": {
          "base_uri": "https://localhost:8080/"
        },
        "outputId": "18206878-5d55-48b5-afca-33352176ad27"
      },
      "execution_count": 24,
      "outputs": [
        {
          "output_type": "stream",
          "name": "stdout",
          "text": [
            "Number of unique words before removing: 197945\n",
            "Removing words with frequency < 10\n",
            "Number of unique words after removing: 22353\n"
          ]
        }
      ]
    },
    {
      "cell_type": "code",
      "source": [
        "# set of words with index as value\n",
        "word_index = dict((c, i) for i, c in enumerate(words))\n",
        "# set of words with index as key\n",
        "index_word = dict((i, c) for i, c in enumerate(words))"
      ],
      "metadata": {
        "id": "BK3Rtxcl_FfM"
      },
      "execution_count": 25,
      "outputs": []
    },
    {
      "cell_type": "code",
      "source": [
        "STEP = 4 # number of words needed to generate one new word\n",
        "SEQ_LEN = 15 # length of the sequence used to generate new sequence\n",
        "\n",
        "prev_words = []\n",
        "next_words = []\n",
        "ignored = 0\n",
        "\n",
        "for i in tqdm(range(0, len(lyrics_corpus) - SEQ_LEN, STEP), position=0, leave=True):\n",
        "    # adding sequences where no word needs to be removed\n",
        "    if len(set(lyrics_corpus[i: i + SEQ_LEN + 1]).intersection(ignored_words)) == 0:\n",
        "        prev_words.append(lyrics_corpus[i: i + SEQ_LEN])\n",
        "        next_words.append(lyrics_corpus[i + SEQ_LEN])\n",
        "    # moving to next sequence if there's words to remove\n",
        "    else:\n",
        "        ignored += 1"
      ],
      "metadata": {
        "id": "PfLO8UP03J-q",
        "colab": {
          "base_uri": "https://localhost:8080/"
        },
        "outputId": "1c6e8b6c-6f56-44ef-fd35-6857185c51a5"
      },
      "execution_count": 26,
      "outputs": [
        {
          "output_type": "stream",
          "name": "stderr",
          "text": [
            "100%|██████████| 938889/938889 [00:02<00:00, 321202.88it/s]\n"
          ]
        }
      ]
    },
    {
      "cell_type": "code",
      "source": [
        "# display the size of ignored and remaining sequences\n",
        "print('Number of ignored sequences:', ignored)\n",
        "print('Number of remaining sequences:', len(prev_words))"
      ],
      "metadata": {
        "id": "BC1epLjntO6W",
        "colab": {
          "base_uri": "https://localhost:8080/"
        },
        "outputId": "6bf6b883-bcbc-481f-99d5-c5fe264b6aaa"
      },
      "execution_count": 27,
      "outputs": [
        {
          "output_type": "stream",
          "name": "stdout",
          "text": [
            "Number of ignored sequences: 671573\n",
            "Number of remaining sequences: 267316\n"
          ]
        }
      ]
    },
    {
      "cell_type": "markdown",
      "source": [
        "### Shuffling and splitting the lyrics"
      ],
      "metadata": {
        "id": "xY4RfqyPtXCZ"
      }
    },
    {
      "cell_type": "code",
      "source": [
        "from sklearn.model_selection import train_test_split"
      ],
      "metadata": {
        "id": "2sOJNKHG3ogS"
      },
      "execution_count": 28,
      "outputs": []
    },
    {
      "cell_type": "code",
      "source": [
        "def shuffle_and_split_training_set(prev_seq, next_seq, percentage_test = 2):\n",
        "    tmp_prev_word = []\n",
        "    tmp_next_word = []\n",
        "\n",
        "    # shuffling the data set\n",
        "    for i in np.random.permutation(len(prev_seq)):\n",
        "        tmp_prev_word.append(prev_seq[i])\n",
        "        tmp_next_word.append(next_seq[i])\n",
        "\n",
        "    # splitting data set into traning data and test data\n",
        "    split_index = int(len(prev_seq) * (1.-(percentage_test/100.)))\n",
        "    X_train, X_test = tmp_prev_word[:split_index], tmp_prev_word[split_index:]\n",
        "    y_train, y_test = tmp_next_word[:split_index], tmp_next_word[split_index:]\n",
        "\n",
        "    # displaying the size of traning data and test data\n",
        "    print(\"Number of words in the training data set:\", len(X_train))\n",
        "    print(\"Number of words in the test data set:\", len(y_test))\n",
        "\n",
        "    return (X_train, y_train), (X_test, y_test)"
      ],
      "metadata": {
        "id": "Ax42Ue4e3YWP"
      },
      "execution_count": 29,
      "outputs": []
    },
    {
      "cell_type": "code",
      "source": [
        "# applying shuffle and split function to our data set\n",
        "(prev_words_train, next_words_train), (prev_words_test, next_words_test) = shuffle_and_split_training_set(prev_words, next_words)"
      ],
      "metadata": {
        "id": "V8ryXdXd3m-L",
        "colab": {
          "base_uri": "https://localhost:8080/"
        },
        "outputId": "24c2f254-0981-4e2a-8b0d-c101c402c57e"
      },
      "execution_count": 30,
      "outputs": [
        {
          "output_type": "stream",
          "name": "stdout",
          "text": [
            "Number of words in the training data set: 261969\n",
            "Number of words in the test data set: 5347\n"
          ]
        }
      ]
    },
    {
      "cell_type": "markdown",
      "source": [
        "## Processing"
      ],
      "metadata": {
        "id": "yGQNuVv8x3eM"
      }
    },
    {
      "cell_type": "markdown",
      "source": [
        "### Building the neural network"
      ],
      "metadata": {
        "id": "pvsmXSqIyHiS"
      }
    },
    {
      "cell_type": "code",
      "source": [
        "from keras.callbacks import LambdaCallback, ModelCheckpoint, EarlyStopping           \n",
        "from keras.models import Sequential                                                  \n",
        "from keras.layers import Dense, Dropout, Activation, LSTM, Bidirectional, Embedding"
      ],
      "metadata": {
        "id": "tnT3Bior3pFi"
      },
      "execution_count": 31,
      "outputs": []
    },
    {
      "cell_type": "code",
      "source": [
        "# linear stack of layers\n",
        "model = Sequential()\n",
        "\n",
        "# word embedding layers\n",
        "model.add(Embedding(input_dim=len(words), output_dim=512))\n",
        "\n",
        "# input flow backwards and forward\n",
        "model.add(Bidirectional(LSTM(128)))\n",
        "\n",
        "# to avoid overfitting we randomly drop out units during training\n",
        "model.add(Dropout(0.2))\n",
        "\n",
        "# layers for changing vectors dimensions\n",
        "model.add(Dense(len(words)))\n",
        "\n",
        "# using normalized exponential as activation function\n",
        "model.add(Activation('softmax'))\n",
        "\n",
        "# using cross-entropy as loss function\n",
        "# using adaptive moment estimation algorithm to optimze results\n",
        "# using the accuracy of the model as metric\n",
        "model.compile(loss='sparse_categorical_crossentropy', optimizer=\"adam\", metrics=['accuracy'])\n",
        "\n",
        "# display the model parameters\n",
        "model.summary()"
      ],
      "metadata": {
        "id": "kekdZk2x3sQ5",
        "colab": {
          "base_uri": "https://localhost:8080/"
        },
        "outputId": "0ceac888-760b-4a40-aa72-95bc3ecfd2d8"
      },
      "execution_count": 32,
      "outputs": [
        {
          "output_type": "stream",
          "name": "stdout",
          "text": [
            "Model: \"sequential_1\"\n",
            "_________________________________________________________________\n",
            " Layer (type)                Output Shape              Param #   \n",
            "=================================================================\n",
            " embedding_1 (Embedding)     (None, None, 512)         11444736  \n",
            "                                                                 \n",
            " bidirectional_1 (Bidirectio  (None, 256)              656384    \n",
            " nal)                                                            \n",
            "                                                                 \n",
            " dropout_1 (Dropout)         (None, 256)               0         \n",
            "                                                                 \n",
            " dense_1 (Dense)             (None, 22353)             5744721   \n",
            "                                                                 \n",
            " activation_1 (Activation)   (None, 22353)             0         \n",
            "                                                                 \n",
            "=================================================================\n",
            "Total params: 17,845,841\n",
            "Trainable params: 17,845,841\n",
            "Non-trainable params: 0\n",
            "_________________________________________________________________\n"
          ]
        }
      ]
    },
    {
      "cell_type": "code",
      "source": [
        "# display the model as a graph\n",
        "import tensorflow as tf\n",
        "tf.keras.utils.plot_model(model)"
      ],
      "metadata": {
        "id": "lzs4zDUd89LP",
        "colab": {
          "base_uri": "https://localhost:8080/",
          "height": 564
        },
        "outputId": "061cacb4-f741-4bf5-dbce-25f0945d2cda"
      },
      "execution_count": 33,
      "outputs": [
        {
          "output_type": "execute_result",
          "data": {
            "text/plain": [
              "<IPython.core.display.Image object>"
            ],
            "image/png": "[encoded data removed]"
          },
          "metadata": {},
          "execution_count": 33
        }
      ]
    },
    {
      "cell_type": "markdown",
      "source": [
        "### Building data generator"
      ],
      "metadata": {
        "id": "UkXkKO-w0__Z"
      }
    },
    {
      "cell_type": "code",
      "source": [
        "from keras.callbacks import LambdaCallback, ModelCheckpoint, EarlyStopping\n",
        "from operator import itemgetter"
      ],
      "metadata": {
        "id": "Trer87z334dW"
      },
      "execution_count": 34,
      "outputs": []
    },
    {
      "cell_type": "code",
      "source": [
        "# function to generate data from our data set in order to feed our model\n",
        "def generator(prev_word_list, next_word_list, batch_size):\n",
        "    index = 0\n",
        "    while True:\n",
        "        x = np.zeros((batch_size, SEQ_LEN), dtype=np.int32)\n",
        "        y = np.zeros((batch_size), dtype=np.int32)\n",
        "        for i in range(batch_size):\n",
        "            for t, w in enumerate(prev_word_list[index % len(prev_word_list)]):\n",
        "                x[i, t] = word_index[w]\n",
        "            y[i] = word_index[next_word_list[index % len(prev_word_list)]]\n",
        "            index = index + 1\n",
        "        yield x, y"
      ],
      "metadata": {
        "id": "-W-Vo6ma5QLn"
      },
      "execution_count": 35,
      "outputs": []
    },
    {
      "cell_type": "markdown",
      "source": [
        "### Traning the model"
      ],
      "metadata": {
        "id": "P2zz0KoC3Wl1"
      }
    },
    {
      "cell_type": "code",
      "source": [
        "BATCH_SIZE = 32\n",
        "\n",
        "file_path = 'french_rap_lyrics/Modelbis'\n",
        "\n",
        "# regularization to avoid overfitting because our model is iterative\n",
        "early_stopping = EarlyStopping(monitor='val_accuracy', patience=5)\n",
        "\n",
        "# serialization of our network each time there is an improvement during training\n",
        "model_checkpoint = ModelCheckpoint(filepath=file_path + '.hdf5', monitor='val_accuracy', save_best_only=True)\n",
        "\n",
        "callbacks_list = [early_stopping, model_checkpoint]\n",
        "\n",
        "# training the model by passing the training dataset 10 times through the neural network\n",
        "model.fit(generator(prev_words, next_words, BATCH_SIZE),\n",
        "                        steps_per_epoch=int(len(prev_words)/BATCH_SIZE) + 1,\n",
        "                        epochs=100,\n",
        "                        callbacks=callbacks_list,\n",
        "                        validation_data=generator(prev_words_test, next_words_test, BATCH_SIZE),\n",
        "                        validation_steps=int(len(prev_words_test)/BATCH_SIZE) + 1)"
      ],
      "metadata": {
        "id": "nm8oos1u5j1P",
        "colab": {
          "base_uri": "https://localhost:8080/"
        },
        "outputId": "0a56e341-349f-4e56-8f4f-4d8eb66323aa"
      },
      "execution_count": 36,
      "outputs": [
        {
          "output_type": "stream",
          "name": "stdout",
          "text": [
            "Epoch 1/100\n",
            "8354/8354 [==============================] - 128s 15ms/step - loss: 6.4421 - accuracy: 0.1378 - val_loss: 5.6297 - val_accuracy: 0.1622\n",
            "Epoch 2/100\n",
            "8354/8354 [==============================] - 122s 15ms/step - loss: 5.4601 - accuracy: 0.1750 - val_loss: 5.0024 - val_accuracy: 0.2057\n",
            "Epoch 3/100\n",
            "8354/8354 [==============================] - 122s 15ms/step - loss: 4.8528 - accuracy: 0.2043 - val_loss: 4.4287 - val_accuracy: 0.2552\n",
            "Epoch 4/100\n",
            "8354/8354 [==============================] - 123s 15ms/step - loss: 4.2673 - accuracy: 0.2482 - val_loss: 3.9064 - val_accuracy: 0.3015\n",
            "Epoch 5/100\n",
            "8354/8354 [==============================] - 122s 15ms/step - loss: 3.7264 - accuracy: 0.3050 - val_loss: 3.4582 - val_accuracy: 0.3596\n",
            "Epoch 6/100\n",
            "8354/8354 [==============================] - 122s 15ms/step - loss: 3.2651 - accuracy: 0.3654 - val_loss: 3.0866 - val_accuracy: 0.4096\n",
            "Epoch 7/100\n",
            "8354/8354 [==============================] - 122s 15ms/step - loss: 2.8775 - accuracy: 0.4212 - val_loss: 2.7916 - val_accuracy: 0.4485\n",
            "Epoch 8/100\n",
            "8354/8354 [==============================] - 122s 15ms/step - loss: 2.5724 - accuracy: 0.4682 - val_loss: 2.5080 - val_accuracy: 0.4911\n",
            "Epoch 9/100\n",
            "8354/8354 [==============================] - 122s 15ms/step - loss: 2.3298 - accuracy: 0.5070 - val_loss: 2.3227 - val_accuracy: 0.5169\n",
            "Epoch 10/100\n",
            "8354/8354 [==============================] - 122s 15ms/step - loss: 2.1381 - accuracy: 0.5390 - val_loss: 2.1350 - val_accuracy: 0.5526\n",
            "Epoch 11/100\n",
            "8354/8354 [==============================] - 121s 15ms/step - loss: 1.9759 - accuracy: 0.5667 - val_loss: 2.0099 - val_accuracy: 0.5692\n",
            "Epoch 12/100\n",
            "8354/8354 [==============================] - 122s 15ms/step - loss: 1.8620 - accuracy: 0.5865 - val_loss: 1.8657 - val_accuracy: 0.5991\n",
            "Epoch 13/100\n",
            "8354/8354 [==============================] - 122s 15ms/step - loss: 1.7640 - accuracy: 0.6040 - val_loss: 1.7585 - val_accuracy: 0.6138\n",
            "Epoch 14/100\n",
            "8354/8354 [==============================] - 122s 15ms/step - loss: 1.6941 - accuracy: 0.6156 - val_loss: 1.6525 - val_accuracy: 0.6334\n",
            "Epoch 15/100\n",
            "8354/8354 [==============================] - 122s 15ms/step - loss: 1.6312 - accuracy: 0.6262 - val_loss: 1.5576 - val_accuracy: 0.6432\n",
            "Epoch 16/100\n",
            "8354/8354 [==============================] - 122s 15ms/step - loss: 1.5807 - accuracy: 0.6350 - val_loss: 1.5110 - val_accuracy: 0.6544\n",
            "Epoch 17/100\n",
            "8354/8354 [==============================] - 122s 15ms/step - loss: 1.5468 - accuracy: 0.6404 - val_loss: 1.4516 - val_accuracy: 0.6646\n",
            "Epoch 18/100\n",
            "8354/8354 [==============================] - 122s 15ms/step - loss: 1.5174 - accuracy: 0.6463 - val_loss: 1.3748 - val_accuracy: 0.6834\n",
            "Epoch 19/100\n",
            "8354/8354 [==============================] - 123s 15ms/step - loss: 1.4824 - accuracy: 0.6542 - val_loss: 1.3223 - val_accuracy: 0.6920\n",
            "Epoch 20/100\n",
            "8354/8354 [==============================] - 123s 15ms/step - loss: 1.4603 - accuracy: 0.6567 - val_loss: 1.2578 - val_accuracy: 0.7065\n",
            "Epoch 21/100\n",
            "8354/8354 [==============================] - 123s 15ms/step - loss: 1.4281 - accuracy: 0.6617 - val_loss: 1.2250 - val_accuracy: 0.7126\n",
            "Epoch 22/100\n",
            "8354/8354 [==============================] - 124s 15ms/step - loss: 1.4044 - accuracy: 0.6667 - val_loss: 1.1681 - val_accuracy: 0.7253\n",
            "Epoch 23/100\n",
            "8354/8354 [==============================] - 123s 15ms/step - loss: 1.3872 - accuracy: 0.6704 - val_loss: 1.1128 - val_accuracy: 0.7392\n",
            "Epoch 24/100\n",
            "8354/8354 [==============================] - 123s 15ms/step - loss: 1.3469 - accuracy: 0.6789 - val_loss: 1.0594 - val_accuracy: 0.7511\n",
            "Epoch 25/100\n",
            "8354/8354 [==============================] - 123s 15ms/step - loss: 1.3154 - accuracy: 0.6844 - val_loss: 1.0231 - val_accuracy: 0.7621\n",
            "Epoch 26/100\n",
            "8354/8354 [==============================] - 123s 15ms/step - loss: 1.2813 - accuracy: 0.6923 - val_loss: 0.9357 - val_accuracy: 0.7814\n",
            "Epoch 27/100\n",
            "8354/8354 [==============================] - 123s 15ms/step - loss: 1.2369 - accuracy: 0.7025 - val_loss: 0.8753 - val_accuracy: 0.8013\n",
            "Epoch 28/100\n",
            "8354/8354 [==============================] - 123s 15ms/step - loss: 1.2078 - accuracy: 0.7078 - val_loss: 0.8327 - val_accuracy: 0.8026\n",
            "Epoch 29/100\n",
            "8354/8354 [==============================] - 123s 15ms/step - loss: 1.1633 - accuracy: 0.7168 - val_loss: 0.7934 - val_accuracy: 0.8155\n",
            "Epoch 30/100\n",
            "8354/8354 [==============================] - 122s 15ms/step - loss: 1.1320 - accuracy: 0.7253 - val_loss: 0.7237 - val_accuracy: 0.8315\n",
            "Epoch 31/100\n",
            "8354/8354 [==============================] - 122s 15ms/step - loss: 1.1018 - accuracy: 0.7313 - val_loss: 0.6906 - val_accuracy: 0.8415\n",
            "Epoch 32/100\n",
            "8354/8354 [==============================] - 123s 15ms/step - loss: 1.0677 - accuracy: 0.7384 - val_loss: 0.6559 - val_accuracy: 0.8495\n",
            "Epoch 33/100\n",
            "8354/8354 [==============================] - 123s 15ms/step - loss: 1.0392 - accuracy: 0.7442 - val_loss: 0.6540 - val_accuracy: 0.8462\n",
            "Epoch 34/100\n",
            "8354/8354 [==============================] - 124s 15ms/step - loss: 1.0182 - accuracy: 0.7489 - val_loss: 0.6199 - val_accuracy: 0.8568\n",
            "Epoch 35/100\n",
            "8354/8354 [==============================] - 124s 15ms/step - loss: 0.9969 - accuracy: 0.7529 - val_loss: 0.5886 - val_accuracy: 0.8657\n",
            "Epoch 36/100\n",
            "8354/8354 [==============================] - 123s 15ms/step - loss: 0.9737 - accuracy: 0.7596 - val_loss: 0.5488 - val_accuracy: 0.8802\n",
            "Epoch 37/100\n",
            "8354/8354 [==============================] - 123s 15ms/step - loss: 0.9507 - accuracy: 0.7637 - val_loss: 0.5415 - val_accuracy: 0.8778\n",
            "Epoch 38/100\n",
            "8354/8354 [==============================] - 123s 15ms/step - loss: 0.9350 - accuracy: 0.7693 - val_loss: 0.5153 - val_accuracy: 0.8830\n",
            "Epoch 39/100\n",
            "8354/8354 [==============================] - 123s 15ms/step - loss: 0.9285 - accuracy: 0.7689 - val_loss: 0.4962 - val_accuracy: 0.8837\n",
            "Epoch 40/100\n",
            "8354/8354 [==============================] - 124s 15ms/step - loss: 0.9077 - accuracy: 0.7743 - val_loss: 0.4706 - val_accuracy: 0.8921\n",
            "Epoch 41/100\n",
            "8354/8354 [==============================] - 123s 15ms/step - loss: 0.8982 - accuracy: 0.7771 - val_loss: 0.4693 - val_accuracy: 0.8927\n",
            "Epoch 42/100\n",
            "8354/8354 [==============================] - 124s 15ms/step - loss: 0.8874 - accuracy: 0.7787 - val_loss: 0.4404 - val_accuracy: 0.9007\n",
            "Epoch 43/100\n",
            "8354/8354 [==============================] - 123s 15ms/step - loss: 0.8734 - accuracy: 0.7825 - val_loss: 0.4373 - val_accuracy: 0.8997\n",
            "Epoch 44/100\n",
            "8354/8354 [==============================] - 124s 15ms/step - loss: 0.8614 - accuracy: 0.7851 - val_loss: 0.4280 - val_accuracy: 0.9066\n",
            "Epoch 45/100\n",
            "8354/8354 [==============================] - 123s 15ms/step - loss: 0.8520 - accuracy: 0.7880 - val_loss: 0.4153 - val_accuracy: 0.9053\n",
            "Epoch 46/100\n",
            "8354/8354 [==============================] - 123s 15ms/step - loss: 0.8495 - accuracy: 0.7871 - val_loss: 0.3972 - val_accuracy: 0.9109\n",
            "Epoch 47/100\n",
            "8354/8354 [==============================] - 123s 15ms/step - loss: 0.8449 - accuracy: 0.7888 - val_loss: 0.3900 - val_accuracy: 0.9142\n",
            "Epoch 48/100\n",
            "8354/8354 [==============================] - 123s 15ms/step - loss: 0.8299 - accuracy: 0.7929 - val_loss: 0.3830 - val_accuracy: 0.9102\n",
            "Epoch 49/100\n",
            "8354/8354 [==============================] - 122s 15ms/step - loss: 0.8254 - accuracy: 0.7932 - val_loss: 0.3764 - val_accuracy: 0.9180\n",
            "Epoch 50/100\n",
            "8354/8354 [==============================] - 123s 15ms/step - loss: 0.8277 - accuracy: 0.7926 - val_loss: 0.3584 - val_accuracy: 0.9209\n",
            "Epoch 51/100\n",
            "8354/8354 [==============================] - 122s 15ms/step - loss: 0.8282 - accuracy: 0.7927 - val_loss: 0.3648 - val_accuracy: 0.9230\n",
            "Epoch 52/100\n",
            "8354/8354 [==============================] - 122s 15ms/step - loss: 0.8183 - accuracy: 0.7944 - val_loss: 0.3470 - val_accuracy: 0.9230\n",
            "Epoch 53/100\n",
            "8354/8354 [==============================] - 122s 15ms/step - loss: 0.8139 - accuracy: 0.7964 - val_loss: 0.3429 - val_accuracy: 0.9252\n",
            "Epoch 54/100\n",
            "8354/8354 [==============================] - 124s 15ms/step - loss: 0.8101 - accuracy: 0.7978 - val_loss: 0.3456 - val_accuracy: 0.9256\n",
            "Epoch 55/100\n",
            "8354/8354 [==============================] - 123s 15ms/step - loss: 0.8007 - accuracy: 0.7994 - val_loss: 0.3306 - val_accuracy: 0.9295\n",
            "Epoch 56/100\n",
            "8354/8354 [==============================] - 124s 15ms/step - loss: 0.7977 - accuracy: 0.8011 - val_loss: 0.3274 - val_accuracy: 0.9332\n",
            "Epoch 57/100\n",
            "8354/8354 [==============================] - 123s 15ms/step - loss: 0.7912 - accuracy: 0.8026 - val_loss: 0.3370 - val_accuracy: 0.9263\n",
            "Epoch 58/100\n",
            "8354/8354 [==============================] - 123s 15ms/step - loss: 0.7920 - accuracy: 0.8028 - val_loss: 0.3231 - val_accuracy: 0.9297\n",
            "Epoch 59/100\n",
            "8354/8354 [==============================] - 123s 15ms/step - loss: 0.7902 - accuracy: 0.8023 - val_loss: 0.3180 - val_accuracy: 0.9310\n",
            "Epoch 60/100\n",
            "8354/8354 [==============================] - 123s 15ms/step - loss: 0.7962 - accuracy: 0.8007 - val_loss: 0.3094 - val_accuracy: 0.9368\n",
            "Epoch 61/100\n",
            "8354/8354 [==============================] - 124s 15ms/step - loss: 0.7895 - accuracy: 0.8035 - val_loss: 0.3122 - val_accuracy: 0.9382\n",
            "Epoch 62/100\n",
            "8354/8354 [==============================] - 123s 15ms/step - loss: 0.7854 - accuracy: 0.8042 - val_loss: 0.3059 - val_accuracy: 0.9379\n",
            "Epoch 63/100\n",
            "8354/8354 [==============================] - 126s 15ms/step - loss: 0.7806 - accuracy: 0.8057 - val_loss: 0.3091 - val_accuracy: 0.9369\n",
            "Epoch 64/100\n",
            "8354/8354 [==============================] - 125s 15ms/step - loss: 0.7753 - accuracy: 0.8074 - val_loss: 0.2994 - val_accuracy: 0.9388\n",
            "Epoch 65/100\n",
            "8354/8354 [==============================] - 125s 15ms/step - loss: 0.7756 - accuracy: 0.8073 - val_loss: 0.2984 - val_accuracy: 0.9405\n",
            "Epoch 66/100\n",
            "8354/8354 [==============================] - 124s 15ms/step - loss: 0.7781 - accuracy: 0.8075 - val_loss: 0.2954 - val_accuracy: 0.9416\n",
            "Epoch 67/100\n",
            "8354/8354 [==============================] - 129s 15ms/step - loss: 0.7772 - accuracy: 0.8066 - val_loss: 0.2972 - val_accuracy: 0.9418\n",
            "Epoch 68/100\n",
            "8354/8354 [==============================] - 126s 15ms/step - loss: 0.7738 - accuracy: 0.8080 - val_loss: 0.2907 - val_accuracy: 0.9453\n",
            "Epoch 69/100\n",
            "8354/8354 [==============================] - 124s 15ms/step - loss: 0.7716 - accuracy: 0.8085 - val_loss: 0.2824 - val_accuracy: 0.9436\n",
            "Epoch 70/100\n",
            "8354/8354 [==============================] - 125s 15ms/step - loss: 0.7667 - accuracy: 0.8098 - val_loss: 0.2863 - val_accuracy: 0.9472\n",
            "Epoch 71/100\n",
            "8354/8354 [==============================] - 123s 15ms/step - loss: 0.7711 - accuracy: 0.8097 - val_loss: 0.2857 - val_accuracy: 0.9442\n",
            "Epoch 72/100\n",
            "8354/8354 [==============================] - 128s 15ms/step - loss: 0.7668 - accuracy: 0.8095 - val_loss: 0.2898 - val_accuracy: 0.9435\n",
            "Epoch 73/100\n",
            "8354/8354 [==============================] - 127s 15ms/step - loss: 0.7692 - accuracy: 0.8089 - val_loss: 0.2749 - val_accuracy: 0.9442\n",
            "Epoch 74/100\n",
            "8354/8354 [==============================] - 124s 15ms/step - loss: 0.7671 - accuracy: 0.8097 - val_loss: 0.2768 - val_accuracy: 0.9429\n",
            "Epoch 75/100\n",
            "8354/8354 [==============================] - 124s 15ms/step - loss: 0.7622 - accuracy: 0.8111 - val_loss: 0.2847 - val_accuracy: 0.9420\n"
          ]
        },
        {
          "output_type": "execute_result",
          "data": {
            "text/plain": [
              "<keras.callbacks.History at 0x7f22c06edcd0>"
            ]
          },
          "metadata": {},
          "execution_count": 36
        }
      ]
    },
    {
      "cell_type": "markdown",
      "source": [
        "## Testing"
      ],
      "metadata": {
        "id": "IL_-C0cx3o0K"
      }
    },
    {
      "cell_type": "markdown",
      "source": [
        "### Initial input seed"
      ],
      "metadata": {
        "id": "-1YVoGx13sKu"
      }
    },
    {
      "cell_type": "code",
      "source": [
        "seed_index = np.random.randint(len(prev_words))\n",
        "seed = ['ce', 'son', 'est', 'écrit', 'par', 'un', 'robot', '\\n', 'eh', 'oui', 'le', 'son', 'vient', 'de', 'la', 'rue', 'gros']\n",
        "print(seed)"
      ],
      "metadata": {
        "id": "bddznTme8IOB",
        "colab": {
          "base_uri": "https://localhost:8080/"
        },
        "outputId": "941024b1-a16c-4a06-b483-ff5d065a4473"
      },
      "execution_count": 40,
      "outputs": [
        {
          "output_type": "stream",
          "name": "stdout",
          "text": [
            "['ce', 'son', 'est', 'écrit', 'par', 'un', 'robot', '\\n', 'eh', 'oui', 'le', 'son', 'vient', 'de', 'la', 'rue', 'gros']\n"
          ]
        }
      ]
    },
    {
      "cell_type": "markdown",
      "source": [
        "### Index sample"
      ],
      "metadata": {
        "id": "mHd-oNOf50O_"
      }
    },
    {
      "cell_type": "code",
      "source": [
        "def sample(preds, temperature):\n",
        "    # converting predictions values to array\n",
        "    preds = np.asarray(preds).astype('float64')\n",
        "    # modifying predictions values\n",
        "    preds = np.log(preds) / temperature\n",
        "    exp_preds = np.exp(preds)\n",
        "    preds = exp_preds / np.sum(exp_preds)\n",
        "    # generating multinomial distribution following predictions\n",
        "    probas = np.random.multinomial(1, preds, 1)\n",
        "    # returning index of maximum values\n",
        "    return np.argmax(probas)"
      ],
      "metadata": {
        "id": "99CGxdg0_pYz"
      },
      "execution_count": 41,
      "outputs": []
    },
    {
      "cell_type": "markdown",
      "source": [
        "### Generating french rap lyrics"
      ],
      "metadata": {
        "id": "55vcB5-T54xj"
      }
    },
    {
      "cell_type": "code",
      "source": [
        "for temperature in [0.1, 0.3, 0.5, 0.7, 0.9]:\n",
        "    # initializing the sentence with our seed\n",
        "    sentence = seed\n",
        "    lyrics = []\n",
        "\n",
        "    for i in range(150):\n",
        "        # initializing the prediction variable\n",
        "        X_pred = np.zeros((1, SEQ_LEN))\n",
        "        for t, word in enumerate(sentence):\n",
        "            X_pred[0, t-2] = word_index[word]\n",
        "\n",
        "        # making our predictions on lyrics\n",
        "        preds = model.predict(X_pred, verbose=0)[0]\n",
        "        next_index = sample(preds, temperature)\n",
        "        next_word = index_word[next_index]\n",
        "\n",
        "        # removing the first word from the beginning the sentence\n",
        "        sentence = sentence[1:]\n",
        "        # adding the new word generated at the end of the sentence\n",
        "        sentence.append(next_word)\n",
        "        # adding the new word generated to the list of lyrics\n",
        "        lyrics.append(next_word)\n",
        "\n",
        "    # displaying all the lyrics generated following our intial seed\n",
        "    print('Génération pour la température', temperature, ':\\n')\n",
        "    print(' '.join(seed))\n",
        "    print(' '.join(lyrics))\n",
        "    print('\\n')"
      ],
      "metadata": {
        "id": "XujzqM956EKK",
        "colab": {
          "base_uri": "https://localhost:8080/"
        },
        "outputId": "9205a777-e395-4fd9-f438-0a0990138945"
      },
      "execution_count": 42,
      "outputs": [
        {
          "output_type": "stream",
          "name": "stdout",
          "text": [
            "Génération pour la température 0.1 :\n",
            "\n",
            "ce son est écrit par un robot \n",
            " eh oui le son vient de la rue gros\n",
            "c'est la des coups \n",
            " un jour la pousser la même j'essaie de la personne \n",
            " j’ai vu les hommes au cou pour la glace \n",
            " allez les p'tits personne m'a jamais mise dans mon lit \n",
            " les p'tits mon mort, la rue m'a marié à mon frère, au point rien n'a que mon tour de la ville \n",
            " j'suis dans le sale, donc j'mets en mes plus dans la tête \n",
            " et je suis le amour de la vie, que je m'en bats les couilles de c'que tu veux \n",
            " pas de cette vie, pas de mes gars \n",
            " pas de mes frères \n",
            " j'te rappelle de pas moi \n",
            " de moi \n",
            " moi je te remplis des couilles des de mes gars \n",
            " pas de moi comme casser des coups où tu n'as pas de place \n",
            " comme un mec qui ne fait pas un truc \n",
            " je\n",
            "\n",
            "\n",
            "Génération pour la température 0.3 :\n",
            "\n",
            "ce son est écrit par un robot \n",
            " eh oui le son vient de la rue gros\n",
            "t'as du flow \n",
            " c'est le qui le rap qui fait pour le côté ? \n",
            " c'est mieux mais ça parle au de te tant mieux ? \n",
            " c'est bien parce que c'est qui ça parle bien \n",
            " mais bien bien sûr y'a trop bien de leur faire la queue pour leur moins moins de sang de la fin du monde, le temps \n",
            " le temps passe par les temps \n",
            " que je me suis sur le même histoire que tu restes \n",
            " choses que tu peux se dire c'est de la merde \n",
            " à la vie, le pire c'est pas trop \n",
            " quand tu es la fête et la fin du temps \n",
            " je suis au bord de la mer \n",
            " et même plus je me sens toujours bien, une chance \n",
            " je me bats les couilles quand je regarde une gars une maison \n",
            " les gars sont en\n",
            "\n",
            "\n",
            "Génération pour la température 0.5 :\n",
            "\n",
            "ce son est écrit par un robot \n",
            " eh oui le son vient de la rue gros\n",
            "t'as du milieu des bruit \n",
            " un coup de te la fou de la journée si je j'en ai rien à qui \n",
            " si je ne comprends pas je peux pas comprendre c'est le sale \n",
            " personne ne voit pas eu le monde des doigts, elle me dis de mal \n",
            " qu'elle me rend mal la mort la mort \n",
            " elle me dit qu'on a personne \n",
            " il a son cœur brisé son cœur \n",
            " elle a tout fait son âme \n",
            " pute, tu parles, tu joues ma tête, ma mère a mis ma veste \n",
            " ça fait ma belle, toi ma j'vois la nuit dans la tête, la haine, c'est la guerre, \n",
            " j'ai pas la tête la tête, tête, tête, un tête \n",
            " voilà la tête, j'ai pas tête, tête de tête \n",
            " j'suis dans la zone \n",
            " dans la tête, j'suis pas très tête \n",
            " j'suis une\n",
            "\n",
            "\n"
          ]
        },
        {
          "output_type": "stream",
          "name": "stderr",
          "text": [
            "/usr/local/lib/python3.7/dist-packages/ipykernel_launcher.py:5: RuntimeWarning: divide by zero encountered in log\n",
            "  \"\"\"\n"
          ]
        },
        {
          "output_type": "stream",
          "name": "stdout",
          "text": [
            "Génération pour la température 0.7 :\n",
            "\n",
            "ce son est écrit par un robot \n",
            " eh oui le son vient de la rue gros\n",
            "main \n",
            " c'est vous mille comme un petit de sa mère, c'est la loi \n",
            " c'est pas la même si on a la trahison \n",
            " fais pas jogging \n",
            " ca a fait la phases qui a fait ça \n",
            " poto poto poto on a tous \n",
            " fais le faire, mon perdre mon attitude \n",
            " tous mes jours qui font tes yeux dans ma tête \n",
            " ma gars dans les tête \n",
            " ça fait mal, dans ma tête et dans ma tête ouais \n",
            " dans ma mère prie pour toi, toi, toi, toi, toi, toi, sale douche \n",
            " bitch, toi, toi, dans ma tête, rien \n",
            " toi, rien faire, faut cramer ça seule \n",
            " tu fais quoi ? tu veux que je fais trop de la haine, \n",
            " check le système et la rue a pris la corde \n",
            " ce qui me suivra en plein crack et qu'ma aller \n",
            " tout\n",
            "\n",
            "\n",
            "Génération pour la température 0.9 :\n",
            "\n",
            "ce son est écrit par un robot \n",
            " eh oui le son vient de la rue gros\n",
            "\n",
            " son flow veut du mal à la cool \n",
            " car on est à la guerre sans avoir de mal \n",
            " on s'connait pas, \n",
            " on meurt même l'asile \n",
            " c'est si on va finir avec l'on nouveau départ \n",
            " rien n'est à pour faire des porcs et jamais la guerre \n",
            " aujourd'hui c'est la rue, la aujourd'hui tout va faire \n",
            " c'est la qu'les fous d'moi \n",
            " la bouteille du têtes \n",
            " sans part les choses comme à l'abri \n",
            " \n",
            " chacun veut les entre les et les temps passent \n",
            " j'étais en paix \n",
            " solo dans la jour la ou un linceul \n",
            " trouver ma voix ma terre bouge \n",
            " l'taf aujourd'hui la clic \n",
            " ceux sur la bouge, eh eh \n",
            " eh \n",
            " qui fait pas du mal à la mienne \n",
            " ce soir je vais quand je ne voyais pas le monde \n",
            " on peut les\n",
            "\n",
            "\n"
          ]
        }
      ]
    }
  ]
}