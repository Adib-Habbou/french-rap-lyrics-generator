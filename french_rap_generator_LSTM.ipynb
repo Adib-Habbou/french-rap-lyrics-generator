{
  "nbformat": 4,
  "nbformat_minor": 0,
  "metadata": {
    "colab": {
      "name": "french_rap_generator_LSTM.ipynb",
      "provenance": [],
      "collapsed_sections": []
    },
    "kernelspec": {
      "name": "python3",
      "display_name": "Python 3"
    },
    "language_info": {
      "name": "python"
    }
  },
  "cells": [
    {
      "cell_type": "markdown",
      "source": [
        "# French Rap Lyrics Generator using LSTM"
      ],
      "metadata": {
        "id": "w2iCESnNqmI9"
      }
    },
    {
      "cell_type": "markdown",
      "source": [
        "## Preprocessing"
      ],
      "metadata": {
        "id": "lDf1UZwIrNTh"
      }
    },
    {
      "cell_type": "markdown",
      "source": [
        "### Import the necessary libraries"
      ],
      "metadata": {
        "id": "7_PddTVoqxAf"
      }
    },
    {
      "cell_type": "code",
      "execution_count": 59,
      "metadata": {
        "id": "AhzaOpRR2KZG"
      },
      "outputs": [],
      "source": [
        "from tqdm import tqdm \n",
        "import numpy as np\n",
        "import glob\n",
        "import os"
      ]
    },
    {
      "cell_type": "markdown",
      "source": [
        "### Importing data set"
      ],
      "metadata": {
        "id": "IbLmAamp-BLb"
      }
    },
    {
      "cell_type": "code",
      "source": [
        "# connecting to google drive\n",
        "from google.colab import drive\n",
        "drive.mount('/content/drive/', force_remount=True)\n",
        "\n",
        "# getting all rappers files recursivly\n",
        "lyrics_files = glob.glob('/content/drive/MyDrive/french_rap_lyrics/*.txt')"
      ],
      "metadata": {
        "colab": {
          "base_uri": "https://localhost:8080/"
        },
        "id": "SkFTH-vY-CiR",
        "outputId": "9e8edbb5-93f4-4589-dfa9-7530c0f07520"
      },
      "execution_count": 60,
      "outputs": [
        {
          "output_type": "stream",
          "name": "stdout",
          "text": [
            "Mounted at /content/drive/\n"
          ]
        }
      ]
    },
    {
      "cell_type": "markdown",
      "source": [
        "### Splitting the text of the lyrics"
      ],
      "metadata": {
        "id": "Ttwb_5-kqzgq"
      }
    },
    {
      "cell_type": "code",
      "source": [
        "# splitting the text lyrics into words\n",
        "lyrics_corpus = []\n",
        "for file in tqdm(lyrics_files, position=0, leave=True):\n",
        "    with open(file) as f :\n",
        "      lyrics = f.read().lower().replace('\\n', ' \\n ')\n",
        "      lyrics_words = [word for word in lyrics.split(' ') if word.strip() != '' or word == '\\n']\n",
        "      lyrics_corpus = lyrics_corpus + lyrics_words"
      ],
      "metadata": {
        "id": "PdmHzlF42PWI",
        "colab": {
          "base_uri": "https://localhost:8080/"
        },
        "outputId": "b7ec8cb3-3a10-4713-8b95-7532c8eba6ee"
      },
      "execution_count": 61,
      "outputs": [
        {
          "output_type": "stream",
          "name": "stderr",
          "text": [
            "100%|██████████| 135/135 [00:06<00:00, 20.55it/s]\n"
          ]
        }
      ]
    },
    {
      "cell_type": "code",
      "source": [
        "print(\"Number of words in the lyrics corpus:\", len(lyrics_corpus))"
      ],
      "metadata": {
        "id": "d2IBRIVv2uwA",
        "colab": {
          "base_uri": "https://localhost:8080/"
        },
        "outputId": "1f2abc56-82be-4c0a-a52d-9c3a3472ccc8"
      },
      "execution_count": 62,
      "outputs": [
        {
          "output_type": "stream",
          "name": "stdout",
          "text": [
            "Number of words in the lyrics corpus: 3755571\n"
          ]
        }
      ]
    },
    {
      "cell_type": "markdown",
      "source": [
        "### Cleaning the lyrics"
      ],
      "metadata": {
        "id": "VtVmj8DLrYun"
      }
    },
    {
      "cell_type": "code",
      "source": [
        "# words that appear less than 10 times are removed\n",
        "MIN_WORD_FREQ = 10\n",
        "\n",
        "# set of all the words in the lyrics\n",
        "word_freq = {}\n",
        "for word in lyrics_corpus:\n",
        "    word_freq[word] = word_freq.get(word, 0) + 1\n",
        "\n",
        "# set of all the words we want to remove\n",
        "ignored_words = set()\n",
        "for key, value in word_freq.items():\n",
        "    if word_freq[key] < MIN_WORD_FREQ:\n",
        "        ignored_words.add(key)"
      ],
      "metadata": {
        "id": "yJg7gMtP-98i"
      },
      "execution_count": 63,
      "outputs": []
    },
    {
      "cell_type": "code",
      "source": [
        "# displaying size of data set before cleaning and condition of removal\n",
        "words = set(lyrics_corpus)\n",
        "print('Number of unique words before removing:', len(words))\n",
        "print('Removing words with frequency <', MIN_WORD_FREQ)\n",
        "\n",
        "# displaying size of data set after cleaning\n",
        "words = sorted(set(words) - ignored_words)\n",
        "print('Number of unique words after removing:', len(words))"
      ],
      "metadata": {
        "id": "KzBviDcR2z0y",
        "colab": {
          "base_uri": "https://localhost:8080/"
        },
        "outputId": "3056e7b9-72f9-4683-8291-ab8b489295af"
      },
      "execution_count": 64,
      "outputs": [
        {
          "output_type": "stream",
          "name": "stdout",
          "text": [
            "Number of unique words before removing: 197945\n",
            "Removing words with frequency < 10\n",
            "Number of unique words after removing: 22353\n"
          ]
        }
      ]
    },
    {
      "cell_type": "code",
      "source": [
        "# set of words with index as value\n",
        "word_index = dict((c, i) for i, c in enumerate(words))\n",
        "# set of words with index as key\n",
        "index_word = dict((i, c) for i, c in enumerate(words))"
      ],
      "metadata": {
        "id": "BK3Rtxcl_FfM"
      },
      "execution_count": 65,
      "outputs": []
    },
    {
      "cell_type": "code",
      "source": [
        "STEP = 4 # number of words needed to generate one new word\n",
        "SEQ_LEN = 15 # length of the sequence used to generate new sequence\n",
        "\n",
        "prev_words = []\n",
        "next_words = []\n",
        "ignored = 0\n",
        "\n",
        "for i in tqdm(range(0, len(lyrics_corpus) - SEQ_LEN, STEP), position=0, leave=True):\n",
        "    # adding sequences where no word needs to be removed\n",
        "    if len(set(lyrics_corpus[i: i + SEQ_LEN + 1]).intersection(ignored_words)) == 0:\n",
        "        prev_words.append(lyrics_corpus[i: i + SEQ_LEN])\n",
        "        next_words.append(lyrics_corpus[i + SEQ_LEN])\n",
        "    # moving to next sequence if there's words to remove\n",
        "    else:\n",
        "        ignored += 1"
      ],
      "metadata": {
        "id": "PfLO8UP03J-q",
        "colab": {
          "base_uri": "https://localhost:8080/"
        },
        "outputId": "c04e1dbf-3b39-4f18-9157-2642bc40ad07"
      },
      "execution_count": 66,
      "outputs": [
        {
          "output_type": "stream",
          "name": "stderr",
          "text": [
            "100%|██████████| 938889/938889 [00:03<00:00, 268517.05it/s]\n"
          ]
        }
      ]
    },
    {
      "cell_type": "code",
      "source": [
        "# display the size of ignored and remaining sequences\n",
        "print('Number of ignored sequences:', ignored)\n",
        "print('Number of remaining sequences:', len(prev_words))"
      ],
      "metadata": {
        "id": "BC1epLjntO6W",
        "colab": {
          "base_uri": "https://localhost:8080/"
        },
        "outputId": "65b737d3-ad9c-40ea-926e-91057efd29b9"
      },
      "execution_count": 67,
      "outputs": [
        {
          "output_type": "stream",
          "name": "stdout",
          "text": [
            "Number of ignored sequences: 671348\n",
            "Number of remaining sequences: 267541\n"
          ]
        }
      ]
    },
    {
      "cell_type": "markdown",
      "source": [
        "### Shuffling and splitting the lyrics"
      ],
      "metadata": {
        "id": "xY4RfqyPtXCZ"
      }
    },
    {
      "cell_type": "code",
      "source": [
        "from sklearn.model_selection import train_test_split"
      ],
      "metadata": {
        "id": "2sOJNKHG3ogS"
      },
      "execution_count": 68,
      "outputs": []
    },
    {
      "cell_type": "code",
      "source": [
        "def shuffle_and_split_training_set(prev_seq, next_seq, percentage_test = 2):\n",
        "    tmp_prev_word = []\n",
        "    tmp_next_word = []\n",
        "\n",
        "    # shuffling the data set\n",
        "    for i in np.random.permutation(len(prev_seq)):\n",
        "        tmp_prev_word.append(prev_seq[i])\n",
        "        tmp_next_word.append(next_seq[i])\n",
        "\n",
        "    # splitting data set into traning data and test data\n",
        "    split_index = int(len(prev_seq) * (1.-(percentage_test/100.)))\n",
        "    X_train, X_test = tmp_prev_word[:split_index], tmp_prev_word[split_index:]\n",
        "    y_train, y_test = tmp_next_word[:split_index], tmp_next_word[split_index:]\n",
        "\n",
        "    # displaying the size of traning data and test data\n",
        "    print(\"Number of words in the training data set:\", len(X_train))\n",
        "    print(\"Number of words in the test data set:\", len(y_test))\n",
        "\n",
        "    return (X_train, y_train), (X_test, y_test)"
      ],
      "metadata": {
        "id": "Ax42Ue4e3YWP"
      },
      "execution_count": 69,
      "outputs": []
    },
    {
      "cell_type": "code",
      "source": [
        "# applying shuffle and split function to our data set\n",
        "(prev_words_train, next_words_train), (prev_words_test, next_words_test) = shuffle_and_split_training_set(prev_words, next_words)"
      ],
      "metadata": {
        "id": "V8ryXdXd3m-L",
        "colab": {
          "base_uri": "https://localhost:8080/"
        },
        "outputId": "2fa260e2-6cce-4d5b-b1ba-aa1bcf9c0159"
      },
      "execution_count": 70,
      "outputs": [
        {
          "output_type": "stream",
          "name": "stdout",
          "text": [
            "Number of words in the training data set: 262190\n",
            "Number of words in the test data set: 5351\n"
          ]
        }
      ]
    },
    {
      "cell_type": "markdown",
      "source": [
        "## Processing"
      ],
      "metadata": {
        "id": "yGQNuVv8x3eM"
      }
    },
    {
      "cell_type": "markdown",
      "source": [
        "### Building the neural network"
      ],
      "metadata": {
        "id": "pvsmXSqIyHiS"
      }
    },
    {
      "cell_type": "code",
      "source": [
        "from keras.callbacks import LambdaCallback, ModelCheckpoint, EarlyStopping           \n",
        "from keras.models import Sequential                                                  \n",
        "from keras.layers import Dense, Dropout, Activation, LSTM, Bidirectional, Embedding"
      ],
      "metadata": {
        "id": "tnT3Bior3pFi"
      },
      "execution_count": 71,
      "outputs": []
    },
    {
      "cell_type": "code",
      "source": [
        "# linear stack of layers\n",
        "model = Sequential()\n",
        "\n",
        "# word embedding layers\n",
        "model.add(Embedding(input_dim=len(words), output_dim=512))\n",
        "\n",
        "# input flow backwards and forward\n",
        "model.add(Bidirectional(LSTM(128)))\n",
        "\n",
        "# to avoid overfitting we randomly drop out units during training\n",
        "model.add(Dropout(0.2))\n",
        "\n",
        "# layers for changing vectors dimensions\n",
        "model.add(Dense(len(words)))\n",
        "\n",
        "# using normalized exponential as activation function\n",
        "model.add(Activation('softmax'))\n",
        "\n",
        "# using cross-entropy as loss function\n",
        "# using adaptive moment estimation algorithm to optimze results\n",
        "# using the accuracy of the model as metric\n",
        "model.compile(loss='sparse_categorical_crossentropy', optimizer=\"adam\", metrics=['accuracy'])\n",
        "\n",
        "# display the model parameters\n",
        "model.summary()"
      ],
      "metadata": {
        "id": "kekdZk2x3sQ5",
        "colab": {
          "base_uri": "https://localhost:8080/"
        },
        "outputId": "03d64290-3f17-4468-cf64-a0a1e0ca370f"
      },
      "execution_count": 72,
      "outputs": [
        {
          "output_type": "stream",
          "name": "stdout",
          "text": [
            "Model: \"sequential_2\"\n",
            "_________________________________________________________________\n",
            " Layer (type)                Output Shape              Param #   \n",
            "=================================================================\n",
            " embedding_1 (Embedding)     (None, None, 512)         11444736  \n",
            "                                                                 \n",
            " bidirectional_1 (Bidirectio  (None, 256)              656384    \n",
            " nal)                                                            \n",
            "                                                                 \n",
            " dropout_1 (Dropout)         (None, 256)               0         \n",
            "                                                                 \n",
            " dense_1 (Dense)             (None, 22353)             5744721   \n",
            "                                                                 \n",
            " activation_1 (Activation)   (None, 22353)             0         \n",
            "                                                                 \n",
            "=================================================================\n",
            "Total params: 17,845,841\n",
            "Trainable params: 17,845,841\n",
            "Non-trainable params: 0\n",
            "_________________________________________________________________\n"
          ]
        }
      ]
    },
    {
      "cell_type": "code",
      "source": [
        "# display the model as a graph\n",
        "import tensorflow as tf\n",
        "tf.keras.utils.plot_model(model)"
      ],
      "metadata": {
        "id": "lzs4zDUd89LP",
        "colab": {
          "base_uri": "https://localhost:8080/",
          "height": 564
        },
        "outputId": "3aac3746-2153-433c-c769-20b8467ae709"
      },
      "execution_count": 73,
      "outputs": [
        {
          "output_type": "execute_result",
          "data": {
            "text/plain": [
              "<IPython.core.display.Image object>"
            ],
            "image/png": "[encoded data removed]"
          },
          "metadata": {},
          "execution_count": 73
        }
      ]
    },
    {
      "cell_type": "markdown",
      "source": [
        "### Building data generator"
      ],
      "metadata": {
        "id": "UkXkKO-w0__Z"
      }
    },
    {
      "cell_type": "code",
      "source": [
        "from keras.callbacks import LambdaCallback, ModelCheckpoint, EarlyStopping\n",
        "from operator import itemgetter"
      ],
      "metadata": {
        "id": "Trer87z334dW"
      },
      "execution_count": 74,
      "outputs": []
    },
    {
      "cell_type": "code",
      "source": [
        "# function to generate data from our data set in order to feed our model\n",
        "def generator(prev_word_list, next_word_list, batch_size):\n",
        "    index = 0\n",
        "    while True:\n",
        "        x = np.zeros((batch_size, SEQ_LEN), dtype=np.int32)\n",
        "        y = np.zeros((batch_size), dtype=np.int32)\n",
        "        for i in range(batch_size):\n",
        "            for t, w in enumerate(prev_word_list[index % len(prev_word_list)]):\n",
        "                x[i, t] = word_index[w]\n",
        "            y[i] = word_index[next_word_list[index % len(prev_word_list)]]\n",
        "            index = index + 1\n",
        "        yield x, y"
      ],
      "metadata": {
        "id": "-W-Vo6ma5QLn"
      },
      "execution_count": 75,
      "outputs": []
    },
    {
      "cell_type": "markdown",
      "source": [
        "### Traning the model"
      ],
      "metadata": {
        "id": "P2zz0KoC3Wl1"
      }
    },
    {
      "cell_type": "code",
      "source": [
        "BATCH_SIZE = 32\n",
        "\n",
        "file_path = 'french_rap_lyrics/Modelbis'\n",
        "\n",
        "# regularization to avoid overfitting because our model is iterative\n",
        "early_stopping = EarlyStopping(monitor='val_accuracy', patience=5)\n",
        "\n",
        "# serialization of our network each time there is an improvement during training\n",
        "model_checkpoint = ModelCheckpoint(filepath=file_path + '.hdf5', monitor='val_accuracy', save_best_only=True)\n",
        "\n",
        "callbacks_list = [early_stopping, model_checkpoint]\n",
        "\n",
        "# training the model by passing the training dataset 10 times through the neural network\n",
        "model.fit(generator(prev_words, next_words, BATCH_SIZE),\n",
        "                        steps_per_epoch=int(len(prev_words)/BATCH_SIZE) + 1,\n",
        "                        epochs=10,\n",
        "                        callbacks=callbacks_list,\n",
        "                        validation_data=generator(prev_words_test, next_words_test, BATCH_SIZE),\n",
        "                        validation_steps=int(len(prev_words_test)/BATCH_SIZE) + 1)"
      ],
      "metadata": {
        "id": "nm8oos1u5j1P",
        "colab": {
          "base_uri": "https://localhost:8080/"
        },
        "outputId": "dd28d566-dabf-4bab-a323-f213117b588e"
      },
      "execution_count": 76,
      "outputs": [
        {
          "output_type": "stream",
          "name": "stdout",
          "text": [
            "Epoch 1/10\n",
            "8361/8361 [==============================] - 2334s 279ms/step - loss: 6.4347 - accuracy: 0.1363 - val_loss: 5.6055 - val_accuracy: 0.1717\n",
            "Epoch 2/10\n",
            "8361/8361 [==============================] - 2408s 288ms/step - loss: 5.4675 - accuracy: 0.1756 - val_loss: 4.9813 - val_accuracy: 0.2070\n",
            "Epoch 3/10\n",
            "8361/8361 [==============================] - 2531s 303ms/step - loss: 4.8642 - accuracy: 0.2046 - val_loss: 4.4367 - val_accuracy: 0.2524\n",
            "Epoch 4/10\n",
            "8361/8361 [==============================] - 2310s 276ms/step - loss: 4.2968 - accuracy: 0.2460 - val_loss: 3.9290 - val_accuracy: 0.3082\n",
            "Epoch 5/10\n",
            "8361/8361 [==============================] - 2464s 295ms/step - loss: 3.7626 - accuracy: 0.3031 - val_loss: 3.4658 - val_accuracy: 0.3583\n",
            "Epoch 6/10\n",
            "8361/8361 [==============================] - 2352s 281ms/step - loss: 3.3062 - accuracy: 0.3619 - val_loss: 3.0944 - val_accuracy: 0.4116\n",
            "Epoch 7/10\n",
            "8361/8361 [==============================] - 2463s 295ms/step - loss: 2.9273 - accuracy: 0.4150 - val_loss: 2.7773 - val_accuracy: 0.4511\n",
            "Epoch 8/10\n",
            "8361/8361 [==============================] - 2330s 279ms/step - loss: 2.6236 - accuracy: 0.4605 - val_loss: 2.5228 - val_accuracy: 0.4972\n",
            "Epoch 9/10\n",
            "8361/8361 [==============================] - 2311s 276ms/step - loss: 2.3828 - accuracy: 0.4996 - val_loss: 2.3023 - val_accuracy: 0.5251\n",
            "Epoch 10/10\n",
            "8361/8361 [==============================] - 2479s 297ms/step - loss: 2.1861 - accuracy: 0.5320 - val_loss: 2.1038 - val_accuracy: 0.5634\n"
          ]
        },
        {
          "output_type": "execute_result",
          "data": {
            "text/plain": [
              "<keras.callbacks.History at 0x7f16733b14d0>"
            ]
          },
          "metadata": {},
          "execution_count": 76
        }
      ]
    },
    {
      "cell_type": "markdown",
      "source": [
        "## Testing"
      ],
      "metadata": {
        "id": "IL_-C0cx3o0K"
      }
    },
    {
      "cell_type": "markdown",
      "source": [
        "### Initial input seed"
      ],
      "metadata": {
        "id": "-1YVoGx13sKu"
      }
    },
    {
      "cell_type": "code",
      "source": [
        "seed_index = np.random.randint(len(prev_words))\n",
        "seed = ['ce', 'son', 'est', 'écrit', 'par', 'un', 'robot', '\\n', 'eh', 'oui', 'le', 'son', 'vient', 'de', 'la', 'rue', 'gros']\n",
        "print(seed)"
      ],
      "metadata": {
        "id": "bddznTme8IOB",
        "colab": {
          "base_uri": "https://localhost:8080/"
        },
        "outputId": "5bf75f56-e007-4294-8fa2-cf694fe9520a"
      },
      "execution_count": 107,
      "outputs": [
        {
          "output_type": "stream",
          "name": "stdout",
          "text": [
            "['ce', 'son', 'est', 'écrit', 'par', 'un', 'robot', '\\n', 'eh', 'oui', 'le', 'son', 'vient', 'de', 'la', 'rue', 'gros']\n"
          ]
        }
      ]
    },
    {
      "cell_type": "markdown",
      "source": [
        "### Index sample"
      ],
      "metadata": {
        "id": "mHd-oNOf50O_"
      }
    },
    {
      "cell_type": "code",
      "source": [
        "def sample(preds, temperature):\n",
        "    # converting predictions values to array\n",
        "    preds = np.asarray(preds).astype('float64')\n",
        "    # modifying predictions values\n",
        "    preds = np.log(preds) / temperature\n",
        "    exp_preds = np.exp(preds)\n",
        "    preds = exp_preds / np.sum(exp_preds)\n",
        "    # generating multinomial distribution following predictions\n",
        "    probas = np.random.multinomial(1, preds, 1)\n",
        "    # returning index of maximum values\n",
        "    return np.argmax(probas)"
      ],
      "metadata": {
        "id": "99CGxdg0_pYz"
      },
      "execution_count": 78,
      "outputs": []
    },
    {
      "cell_type": "markdown",
      "source": [
        "### Generating french rap lyrics"
      ],
      "metadata": {
        "id": "55vcB5-T54xj"
      }
    },
    {
      "cell_type": "code",
      "source": [
        "for temperature in [0.1, 0.3, 0.5, 0.7, 0.9]:\n",
        "    # initializing the sentence with our seed\n",
        "    sentence = seed\n",
        "    lyrics = []\n",
        "\n",
        "    for i in range(150):\n",
        "        # initializing the prediction variable\n",
        "        X_pred = np.zeros((1, SEQ_LEN))\n",
        "        for t, word in enumerate(sentence):\n",
        "            X_pred[0, t-2] = word_index[word]\n",
        "\n",
        "        # making our predictions on lyrics\n",
        "        preds = model.predict(X_pred, verbose=0)[0]\n",
        "        next_index = sample(preds, temperature)\n",
        "        next_word = index_word[next_index]\n",
        "\n",
        "        # removing the first word from the beginning the sentence\n",
        "        sentence = sentence[1:]\n",
        "        # adding the new word generated at the end of the sentence\n",
        "        sentence.append(next_word)\n",
        "        # adding the new word generated to the list of lyrics\n",
        "        lyrics.append(next_word)\n",
        "\n",
        "    # displaying all the lyrics generated following our intial seed\n",
        "    print('Génération pour la température', temperature, ':\\n')\n",
        "    print(' '.join(seed))\n",
        "    print(' '.join(lyrics))\n",
        "    print('\\n')"
      ],
      "metadata": {
        "id": "XujzqM956EKK",
        "colab": {
          "base_uri": "https://localhost:8080/"
        },
        "outputId": "0b608bd3-19d4-44de-929f-a36f58de01f4"
      },
      "execution_count": 113,
      "outputs": [
        {
          "output_type": "stream",
          "name": "stdout",
          "text": [
            "Génération pour la température 0.1 :\n",
            "\n",
            "ce son est écrit par un robot \n",
            " eh oui le son vient de la rue gros\n",
            "\n",
            " tu peux pas prendre ce qu'ils ont des gros pour les groupies \n",
            " les groupies sont loué belle, les soirs, ils sont des liasses et dans le refaire le regard est le même \n",
            " le monde est à la base, on a la santé et on sait qui \n",
            " on a pas facile à nous on sait \n",
            " on sait pas qu'on est \n",
            " on est pas dans la merde \n",
            " on sait pas qu'on est \n",
            " on a pas besoin de faire \n",
            " on se dit qu'j'étais ce que je suis pas fier \n",
            " mais quand on peut pas tout perdre, j'essaie de faire \n",
            " j'ai de l'amour pour une villa sur le dos \n",
            " mon rap est un truc avant que mon mère \n",
            " je le vois le monde pour les miens \n",
            " si je ne me fais pas le temps pour faire le temps \n",
            " si\n",
            "\n",
            "\n",
            "Génération pour la température 0.3 :\n",
            "\n",
            "ce son est écrit par un robot \n",
            " eh oui le son vient de la rue gros\n",
            "\n",
            " j'suis pas là pour les lovés, plus de foi \n",
            " plus de gamin \n",
            " pas de trop froid pour les faire des euros, trop mourir sans parler \n",
            " en mode de balle cartier \n",
            " t'as plus de place dans un un peu de trop tard \n",
            " depuis que je vois plus de haine \n",
            " et tu fais pas les armes \n",
            " dans les yeux \n",
            " pour les mecs pour de leur parler \n",
            " à parler \n",
            " tu fais trop de faire la fête \n",
            " rien ne me fait plus rien à perdre \n",
            " dans ma tête et je ne peux pas me perdre \n",
            " dans la zone je suis un peu de vie \n",
            " j'ai vu de ce qui ne peut pas se faire du sale, que je suis \n",
            " je te sens pas comme je suis \n",
            " depuis que je suis pas de temps \n",
            " mais c'est pas\n",
            "\n",
            "\n",
            "Génération pour la température 0.5 :\n",
            "\n",
            "ce son est écrit par un robot \n",
            " eh oui le son vient de la rue gros\n",
            "\n",
            " la vie du coup du feu, on a mal au crâne \n",
            " on sait qui est on sait qui on vit on \n",
            " on sait qu'on est on on sait qu'on a on se vit \n",
            " on a rien à faire, on sait qu'on sait qui va finir sur les gros \n",
            " rien à foutre, on sait que tout ne peut rien \n",
            " rien ne sera jamais de nuit \n",
            " si tu ne fais pas les armes dans ma tête \n",
            " je te suis un sens entièrement ne comble et mes vitesse \n",
            " mes larmes sont partis nos meilleurs m'dire parlent de la pour leurs leurs leurs \n",
            " petit rap ! ! tu fais que des mecs qui crèvent de terre \n",
            " de ta petite boulette de la merde \n",
            " je vois que je te parle, je m'en m'en aller \n",
            " que je me sens bien, ok, je lui\n",
            "\n",
            "\n",
            "Génération pour la température 0.7 :\n",
            "\n",
            "ce son est écrit par un robot \n",
            " eh oui le son vient de la rue gros\n",
            "\n",
            " tu parles de mes gars tu viens de la guerre \n",
            " et tu nous connais pas, t'es mon mec \n",
            " tu ne parles pas, tu aimes tout l'air d'en haut \n",
            " mes rêves se lève pas la merde, ouais \n",
            " je crache les couilles sur les couloirs et les fesses qui traînent \n",
            " j'ai vu qu'ils traînent dans merde ! tu veux savoir pourquoi \n",
            " tu veux tu veux passer mon corps ! \n",
            " j'ai plus l'âge de te payer des trous du marché \n",
            " mon visage de temps \n",
            " il faut faire d'la paix à avoir \n",
            " même si y'a des joints y'a des temps de son mois \n",
            " c'est pas le nom de la ville \n",
            " tu ne veux pas nous si tu parles \n",
            " tu me fous sur les loves au milieu \n",
            " petit \n",
            " si tu tu peux pas fais pas \n",
            " tu peux être\n",
            "\n",
            "\n",
            "Génération pour la température 0.9 :\n",
            "\n",
            "ce son est écrit par un robot \n",
            " eh oui le son vient de la rue gros\n",
            "\n",
            " tu marche dans vers ce son pour le larmes de moi le ciel \n",
            " je reviens avec ce son de ce qui les garde de moi \n",
            " tu fais ton rester aux sons \n",
            " mais dis moi te baise tout \n",
            " on est là pour être moi \n",
            " tout l'monde de ou on est facile de en mode on est mental \n",
            " on est là à faire \n",
            " mains dans le bloc, j'veux faire des miettes, où ça va ? \n",
            " ouais c'est tout le monde que ça, c'est pour les miens \n",
            " pourtant c'est ta vie \n",
            " vous veut niquer mes couilles, c'est à mes frères dans la zone \n",
            " mon amour est mon cœur d'faire du mal de la night \n",
            " la nuit elle me love \n",
            " c’est peine comme les meufs elle y’a son liquide \n",
            " mecs une solo au final qui m'fout les meufs jusqu'au\n",
            "\n",
            "\n"
          ]
        }
      ]
    }
  ]
}